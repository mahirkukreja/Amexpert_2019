{
 "cells": [
  {
   "cell_type": "code",
   "execution_count": 107,
   "metadata": {},
   "outputs": [],
   "source": [
    "### Code Cleaning TBD\n",
    "import pandas as pd\n",
    "import numpy as np\n",
    "from sklearn.preprocessing import LabelEncoder\n",
    "import category_encoders\n",
    "from sklearn.model_selection import GroupKFold,TimeSeriesSplit\n",
    "import hyperopt\n",
    "from hyperopt import hp, tpe, STATUS_OK, Trials\n",
    "import pickle\n",
    "import gensim\n",
    "import lightgbm as lgb\n",
    "from sklearn.feature_extraction.text import CountVectorizer,TfidfVectorizer\n",
    "import time"
   ]
  },
  {
   "cell_type": "code",
   "execution_count": 108,
   "metadata": {},
   "outputs": [],
   "source": [
    "train=pd.read_csv('train.csv')\n",
    "test=pd.read_csv('test_QyjYwdj.csv')"
   ]
  },
  {
   "cell_type": "code",
   "execution_count": 109,
   "metadata": {},
   "outputs": [],
   "source": [
    "campaign_data=pd.read_csv('campaign_data.csv')"
   ]
  },
  {
   "cell_type": "code",
   "execution_count": 110,
   "metadata": {},
   "outputs": [],
   "source": [
    "coupon_item_mapping=pd.read_csv('coupon_item_mapping.csv')"
   ]
  },
  {
   "cell_type": "code",
   "execution_count": 111,
   "metadata": {},
   "outputs": [],
   "source": [
    "customer_demographics=pd.read_csv('customer_demographics.csv')"
   ]
  },
  {
   "cell_type": "code",
   "execution_count": 112,
   "metadata": {},
   "outputs": [],
   "source": [
    "item_data=pd.read_csv('item_data.csv')"
   ]
  },
  {
   "cell_type": "code",
   "execution_count": 113,
   "metadata": {},
   "outputs": [],
   "source": [
    "customer_transaction_data=pd.read_csv('customer_transaction_data.csv')"
   ]
  },
  {
   "cell_type": "code",
   "execution_count": 114,
   "metadata": {},
   "outputs": [],
   "source": [
    "train_campaign=train.merge(campaign_data,on='campaign_id')\n",
    "test_campaign=test.merge(campaign_data,on='campaign_id')"
   ]
  },
  {
   "cell_type": "code",
   "execution_count": 115,
   "metadata": {},
   "outputs": [],
   "source": [
    "train_campaign['start_date']=pd.to_datetime(train_campaign['start_date'],dayfirst=True)\n",
    "train_campaign['end_date']=pd.to_datetime(train_campaign['end_date'],dayfirst=True)\n",
    "test_campaign['start_date']=pd.to_datetime(test_campaign['start_date'],dayfirst=True)\n",
    "test_campaign['end_date']=pd.to_datetime(test_campaign['end_date'],dayfirst=True)"
   ]
  },
  {
   "cell_type": "code",
   "execution_count": 116,
   "metadata": {},
   "outputs": [],
   "source": [
    "coupon_item_data=coupon_item_mapping.merge(item_data,on='item_id',how='left')\n",
    "unique_item_data=pd.DataFrame(coupon_item_data.groupby('coupon_id')['item_id','brand','brand_type'].agg(['unique']).reset_index())\n",
    "unique_item_data.columns=['coupon_id','item_id_uniq','brand_uniq','brand_type_uniq']\n",
    "unique_item_data['item_id_uniq']=[len(i) for i in unique_item_data['item_id_uniq']]\n",
    "unique_item_data['brand_uniq']=[len(i) for i in unique_item_data['brand_uniq']]\n",
    "unique_item_data['brand_type_uniq']=[len(i) for i in unique_item_data['brand_type_uniq']]"
   ]
  },
  {
   "cell_type": "code",
   "execution_count": 117,
   "metadata": {},
   "outputs": [],
   "source": [
    "train_demo=train_campaign.merge(customer_demographics,on='customer_id',how='left')\n",
    "test_demo=test_campaign.merge(customer_demographics,on='customer_id',how='left')"
   ]
  },
  {
   "cell_type": "code",
   "execution_count": 118,
   "metadata": {},
   "outputs": [],
   "source": [
    "train_demo['family_size']=train_demo['family_size'].replace({'1':1, '2':2, '3':3, '4':4 ,'5+':5})\n",
    "train_demo['no_of_children']=train_demo['no_of_children'].replace({'1':1, '2':2, '3+':3})\n",
    "train_demo['age_range']=train_demo['age_range'].replace({'18-25':1,'26-35':2,'36-45':3,'46-55':4,'56-70':5,'70+':6})\n",
    "train_demo['marital_status']=train_demo['marital_status'].replace({'Married':0,'Single':1})\n",
    "test_demo['family_size']=test_demo['family_size'].replace({'1':1, '2':2, '3':3, '4':4 ,'5+':5})\n",
    "test_demo['no_of_children']=test_demo['no_of_children'].replace({'1':1, '2':2, '3+':3})\n",
    "test_demo['age_range']=test_demo['age_range'].replace({'18-25':1,'26-35':2,'36-45':3,'46-55':4,'56-70':5,'70+':6})\n",
    "test_demo['marital_status']=test_demo['marital_status'].replace({'Married':0,'Single':1})"
   ]
  },
  {
   "cell_type": "code",
   "execution_count": 119,
   "metadata": {},
   "outputs": [],
   "source": [
    "lb=LabelEncoder()\n",
    "train_demo['campaign_type']=lb.fit_transform(train_demo['campaign_type'])\n",
    "test_demo['campaign_type']=lb.transform(test_demo['campaign_type'])"
   ]
  },
  {
   "cell_type": "code",
   "execution_count": 120,
   "metadata": {},
   "outputs": [],
   "source": [
    "cols=['campaign_type','age_range',\n",
    "       'marital_status', 'rented', 'family_size', 'no_of_children',\n",
    "       'income_bracket']"
   ]
  },
  {
   "cell_type": "code",
   "execution_count": 121,
   "metadata": {},
   "outputs": [
    {
     "name": "stderr",
     "output_type": "stream",
     "text": [
      "/home/Mahir/anaconda3/lib/python3.7/site-packages/ipykernel_launcher.py:3: SettingWithCopyWarning: \n",
      "A value is trying to be set on a copy of a slice from a DataFrame.\n",
      "Try using .loc[row_indexer,col_indexer] = value instead\n",
      "\n",
      "See the caveats in the documentation: http://pandas.pydata.org/pandas-docs/stable/user_guide/indexing.html#returning-a-view-versus-a-copy\n",
      "  This is separate from the ipykernel package so we can avoid doing imports until\n"
     ]
    }
   ],
   "source": [
    "uniq_items=coupon_item_mapping['item_id'].unique()\n",
    "relevant_transactions=customer_transaction_data[customer_transaction_data['item_id'].isin(uniq_items)]\n",
    "relevant_transactions['date']=pd.to_datetime(customer_transaction_data['date'],dayfirst=True)\n",
    "customer_transaction_data['date']=pd.to_datetime(customer_transaction_data['date'],dayfirst=True)"
   ]
  },
  {
   "cell_type": "code",
   "execution_count": 122,
   "metadata": {},
   "outputs": [],
   "source": [
    "item_brands=coupon_item_data[['item_id','brand']].drop_duplicates()\n",
    "relevant_transactions=relevant_transactions.merge(item_brands,on='item_id',how='left')\n",
    "# relevant_transactions=customer_transaction_data\n",
    "# relevant_transactions['date']=pd.to_datetime(customer_transaction_data['date'],dayfirst=True)"
   ]
  },
  {
   "cell_type": "code",
   "execution_count": 123,
   "metadata": {},
   "outputs": [
    {
     "name": "stdout",
     "output_type": "stream",
     "text": [
      "1\n"
     ]
    },
    {
     "name": "stderr",
     "output_type": "stream",
     "text": [
      "/home/Mahir/anaconda3/lib/python3.7/site-packages/ipykernel_launcher.py:10: SettingWithCopyWarning: \n",
      "A value is trying to be set on a copy of a slice from a DataFrame.\n",
      "Try using .loc[row_indexer,col_indexer] = value instead\n",
      "\n",
      "See the caveats in the documentation: http://pandas.pydata.org/pandas-docs/stable/user_guide/indexing.html#returning-a-view-versus-a-copy\n",
      "  # Remove the CWD from sys.path while we load stuff.\n"
     ]
    },
    {
     "name": "stdout",
     "output_type": "stream",
     "text": [
      "2\n",
      "3\n",
      "4\n",
      "5\n",
      "6\n",
      "7\n",
      "8\n",
      "9\n",
      "10\n",
      "11\n",
      "12\n",
      "13\n",
      "14\n",
      "15\n",
      "16\n",
      "17\n",
      "9.755752563476562\n"
     ]
    }
   ],
   "source": [
    "start=time.time()\n",
    "count=0\n",
    "df_main=pd.DataFrame()\n",
    "for i in train_demo['start_date'].unique():\n",
    "    count=count+1\n",
    "    print(count)\n",
    "    train_chunk=train_demo[train_demo.start_date==i]\n",
    "#     log_temp=relevant_transactions\n",
    "    log_temp=relevant_transactions[relevant_transactions.date<i]\n",
    "    log_temp['ratio']=abs(log_temp['coupon_discount']/log_temp['selling_price'])\n",
    "    customer_uniq_item_count=log_temp.groupby(['customer_id'])['item_id'].nunique().reset_index()\n",
    "    customer_uniq_item_count.columns=['customer_id','uniq_item_count']\n",
    "    customer_item_count=log_temp.groupby(['customer_id'])['item_id'].count().reset_index()\n",
    "    customer_item_count.columns=['customer_id','item_count']\n",
    "    customer_total_item_count=log_temp.groupby('customer_id')['quantity'].sum().reset_index()\n",
    "    customer_total_item_count.columns=['customer_id','total_item_count']\n",
    "    discounts_count_coupon=log_temp[log_temp['coupon_discount']<0].groupby('customer_id')['coupon_discount'].count().reset_index()\n",
    "    discounts_count_coupon.columns=['customer_id','disc_count']\n",
    "    discounts_count_other=log_temp[log_temp['other_discount']<0].groupby('customer_id')['other_discount'].count().reset_index()\n",
    "    discounts_count_other.columns=['customer_id','disc_count_other']\n",
    "    cust_price=log_temp.groupby(['customer_id'])['selling_price'].agg(['min','max','mean','sum']).reset_index()\n",
    "    cust_price.columns=['customer_id','min_price','max_price','mean_price','sum']\n",
    "    discounts_feats_coupon=log_temp[log_temp['coupon_discount']<0].groupby('customer_id')['coupon_discount'].agg(['min','max','mean','sum']).reset_index()\n",
    "    discounts_feats_coupon.columns=['customer_id','min_disc','max_disc','mean_disc','sum_disc']\n",
    "    mean_disc_to_price=log_temp[log_temp['coupon_discount']<0].groupby('customer_id')['ratio'].agg(['min','max','mean']).reset_index()\n",
    "    mean_disc_to_price.columns=['customer_id','min_rat','max_rat','mean_rat']\n",
    "    uniq_brands=log_temp.groupby(['customer_id'])['brand'].nunique().reset_index()\n",
    "    uniq_brands.columns=['customer_id','uniq_brand_count']\n",
    "    train_chunk=train_chunk.merge(uniq_brands,on='customer_id',how='left')\n",
    "    train_chunk=train_chunk.merge(customer_uniq_item_count,on='customer_id',how='left')\n",
    "    train_chunk=train_chunk.merge(customer_item_count,on='customer_id',how='left')\n",
    "    train_chunk=train_chunk.merge(discounts_count_coupon,on='customer_id',how='left')\n",
    "    train_chunk=train_chunk.merge(discounts_count_other,on='customer_id',how='left')\n",
    "    train_chunk=train_chunk.merge(cust_price,on='customer_id',how='left')\n",
    "    train_chunk=train_chunk.merge(discounts_feats_coupon,on='customer_id',how='left')\n",
    "    train_chunk=train_chunk.merge(mean_disc_to_price,on='customer_id',how='left')\n",
    "    train_chunk=train_chunk.merge(customer_total_item_count,on='customer_id',how='left')\n",
    "    train_chunk['min_disc']=abs(train_chunk['min_disc'])\n",
    "    train_chunk['max_disc']=abs(train_chunk['max_disc'])\n",
    "    train_chunk['mean_disc']=abs(train_chunk['mean_disc'])\n",
    "    train_chunk['sum_disc']=abs(train_chunk['sum_disc'])\n",
    "    df_main=pd.concat([df_main,train_chunk])\n",
    "end=time.time()\n",
    "print(end-start)"
   ]
  },
  {
   "cell_type": "code",
   "execution_count": 124,
   "metadata": {},
   "outputs": [],
   "source": [
    "cols=['campaign_type','age_range',\n",
    "       'marital_status', 'rented', 'family_size', 'no_of_children',\n",
    "       'income_bracket', 'uniq_item_count', 'item_count', 'disc_count',\n",
    "       'disc_count_other', 'min_price', 'max_price', 'mean_price', 'sum',\n",
    "       'min_disc', 'max_disc', 'mean_disc', 'sum_disc', 'min_rat', 'max_rat',\n",
    "       'mean_rat', 'total_item_count','encoding_coupon','rat','item_id_uniq',\n",
    "       'brand_uniq', 'brand_type_uniq','past_action','no_of_users','uniq_brand_count','no_of_previous_clicks','match','match_rate','brand_1', 'brand_2','brand_3', 'brand_4', 'brand_5', 'item_1', 'item_2', 'item_3', 'item_4', 'item_5']\n",
    "# cols=['campaign_type','age_range',\n",
    "#        'marital_status', 'rented', 'family_size', 'no_of_children',\n",
    "#        'income_bracket', 'uniq_item_count', 'item_count', 'disc_count',\n",
    "#        'disc_count_other', 'min_price', 'max_price', 'mean_price', 'sum',\n",
    "#        'min_disc', 'max_disc', 'mean_disc', 'sum_disc', 'min_rat', 'max_rat',\n",
    "#        'mean_rat', 'total_item_count','encoding_coupon','rat','item_id_uniq','uniq_brand_count','no_of_previous_clicks','lab','rat_lol','brand_1', 'brand_2',\n",
    "#        'brand_3', 'brand_4', 'brand_5', 'item_1', 'item_2', 'item_3', 'item_4', 'item_5']"
   ]
  },
  {
   "cell_type": "code",
   "execution_count": 125,
   "metadata": {},
   "outputs": [],
   "source": [
    "df_main=df_main.sort_values(by='start_date')"
   ]
  },
  {
   "cell_type": "code",
   "execution_count": 126,
   "metadata": {},
   "outputs": [
    {
     "name": "stderr",
     "output_type": "stream",
     "text": [
      "/home/Mahir/anaconda3/lib/python3.7/site-packages/ipykernel_launcher.py:19: FutureWarning: Sorting because non-concatenation axis is not aligned. A future version\n",
      "of pandas will change to not sort by default.\n",
      "\n",
      "To accept the future behavior, pass 'sort=False'.\n",
      "\n",
      "To retain the current behavior and silence the warning, pass 'sort=True'.\n",
      "\n"
     ]
    }
   ],
   "source": [
    "df_target=pd.DataFrame()\n",
    "for i in df_main['start_date'].unique():\n",
    "    chk=df_main[df_main.start_date<i]\n",
    "    chk_2=df_main[df_main.start_date==i]\n",
    "    target_enc = chk.groupby(by = ['coupon_id'])['redemption_status'].agg(['sum','count']).reset_index()\n",
    "    target_enc.columns = ['coupon_id',\"target_sum\",\"target_count\"]\n",
    "    target_enc['encoding_coupon'] = target_enc.target_sum/target_enc.target_count\n",
    "    target_enc_1 = chk.groupby(by = ['customer_id'])['redemption_status'].agg(['sum','count']).reset_index()\n",
    "    target_enc_1.columns = ['customer_id',\"target_sum_1\",\"target_count_1\"]\n",
    "    target_enc_1['encoding_customer'] = target_enc_1.target_sum_1/target_enc_1.target_count_1\n",
    "    chk_2=chk_2.merge(target_enc,on='coupon_id',how='left')\n",
    "    chk_2=chk_2.merge(target_enc_1,on='customer_id',how='left')\n",
    "    try:\n",
    "        people_coupons=chk[chk['redemption_status']==1].groupby('coupon_id')['customer_id'].nunique().reset_index()\n",
    "        people_coupons.columns=['coupon_id','no_of_users']\n",
    "        chk_2=chk_2.merge(people_coupons,on='coupon_id',how='left')\n",
    "    except:\n",
    "        pass\n",
    "    df_target=pd.concat([df_target,chk_2])"
   ]
  },
  {
   "cell_type": "code",
   "execution_count": 127,
   "metadata": {},
   "outputs": [],
   "source": [
    "target_enc1 = df_target.groupby(by = ['coupon_id'])['redemption_status'].agg(['sum','count']).reset_index()\n",
    "target_enc1.columns = ['coupon_id',\"target_sum1\",\"target_count1\"]\n",
    "target_enc1['encoding'] = target_enc1.target_sum1/target_enc1.target_count1\n",
    "df_target=df_target.merge(target_enc1,on='coupon_id',how='left')"
   ]
  },
  {
   "cell_type": "code",
   "execution_count": 128,
   "metadata": {},
   "outputs": [],
   "source": [
    "coupon_item_mapping['item_id_str']=coupon_item_mapping['item_id'].apply(str)\n",
    "prep_for_embeddings_items=coupon_item_mapping.groupby('coupon_id')['item_id_str'].unique().reset_index()\n",
    "main_item=[]\n",
    "for i in prep_for_embeddings_items['item_id_str']:\n",
    "    main_item.append(list(i))\n",
    "model_item=gensim.models.Word2Vec(main_item,size=20,window=5,min_count=1,workers=10)\n",
    "embeddings_items={}\n",
    "for i in list(model_item.wv.vocab):\n",
    "    embeddings_items[i]=model_item.wv[i]\n",
    "pickle.dump(embeddings_items,open('embedding_item','wb'),protocol=4)\n",
    "embeddings_items=pickle.load(open('embedding_item','rb'))\n",
    "coupon_item_data['brand_str']=coupon_item_data['brand'].apply(str)\n",
    "prep_for_embeddings_brands=coupon_item_data.groupby('coupon_id')['brand_str'].unique().reset_index()\n",
    "main_brand=[]\n",
    "for i in prep_for_embeddings_brands['brand_str']:\n",
    "    main_brand.append(list(i))\n",
    "model_brand=gensim.models.Word2Vec(main_brand,size=20,window=5,min_count=1,workers=10)\n",
    "embeddings_brand={}\n",
    "for i in list(model_brand.wv.vocab):\n",
    "    embeddings_brand[i]=model_brand.wv[i]\n",
    "pickle.dump(embeddings_brand,open('embedding_brand','wb'),protocol=4)\n",
    "embeddings_brand=pickle.load(open('embedding_brand','rb'))\n",
    "fin_item=[]\n",
    "for i in main_item:\n",
    "    fin_vect_item=[]\n",
    "    for j in i:\n",
    "        vect_item=embeddings_items[j]\n",
    "        fin_vect_item.append(vect_item)\n",
    "    fin_item.append(list(np.mean(fin_vect_item,axis=0)))\n",
    "embeds_item=pd.DataFrame(fin_item)\n",
    "embeds_item.columns=['item_'+str(i) for i in range(1,21)]\n",
    "fin_brand=[]\n",
    "for i in main_brand:\n",
    "    fin_vect_brand=[]\n",
    "    for j in i:\n",
    "        vect_brand=embeddings_brand[j]\n",
    "        fin_vect_brand.append(vect_brand)\n",
    "    fin_brand.append(list(np.mean(fin_vect_brand,axis=0)))\n",
    "embeds_brand=pd.DataFrame(fin_brand)\n",
    "embeds_brand.columns=['brand_'+str(i) for i in range(1,21)]\n",
    "embeds_brand['coupon_id']=prep_for_embeddings_brands['coupon_id']\n",
    "embeds_item['coupon_id']=prep_for_embeddings_items['coupon_id']\n",
    "embeds_brand.to_csv('embeds_brand.csv',index=False)\n",
    "embeds_item.to_csv('embeds_item.csv',index=False)\n",
    "embeds_brand=pd.read_csv('embeds_brand.csv')\n",
    "embeds_item=pd.read_csv('embeds_item.csv')"
   ]
  },
  {
   "cell_type": "code",
   "execution_count": 129,
   "metadata": {},
   "outputs": [],
   "source": [
    "df_target['rat']=df_target['encoding_coupon']/df_target['encoding']"
   ]
  },
  {
   "cell_type": "code",
   "execution_count": 130,
   "metadata": {},
   "outputs": [],
   "source": [
    "df_target=df_target.merge(embeds_brand,on='coupon_id',how='left')\n",
    "df_target=df_target.merge(embeds_item,on='coupon_id',how='left')"
   ]
  },
  {
   "cell_type": "code",
   "execution_count": 131,
   "metadata": {},
   "outputs": [],
   "source": [
    "df_target=df_target.merge(unique_item_data,on='coupon_id',how='left')"
   ]
  },
  {
   "cell_type": "code",
   "execution_count": 132,
   "metadata": {},
   "outputs": [],
   "source": [
    "df_fin=pd.DataFrame()\n",
    "for i in df_target['start_date'].unique():\n",
    "    chunk=df_target[df_target.start_date==i]\n",
    "    chunk=chunk.reset_index()\n",
    "    cp=df_target[df_target['start_date']<i]\n",
    "    cp=cp.reset_index()\n",
    "    cp=cp[cp.start_date==cp['start_date'].max()]\n",
    "    cp=cp.groupby('customer_id')['redemption_status'].sum().reset_index()\n",
    "    cp.columns=['customer_id','past_action']\n",
    "    chunk=(chunk.merge(cp,on='customer_id',how='left'))\n",
    "    df_fin=pd.concat([df_fin,chunk])\n",
    "df_fin['past_action']=df_fin['past_action'].fillna(0)\n",
    "df_finn=pd.DataFrame()\n",
    "for i in df_fin['start_date'].unique():\n",
    "    chunk=df_fin[df_fin.start_date==i]\n",
    "    chunk=chunk.reset_index()\n",
    "    cp=df_fin[df_fin['start_date']<i]\n",
    "    cp=cp.reset_index()\n",
    "    cp=cp[cp.start_date==cp['start_date'].max()]\n",
    "    cp=cp.groupby('coupon_id')['redemption_status'].sum().reset_index()\n",
    "    cp.columns=['coupon_id','past_action_cp']\n",
    "    chunk=(chunk.merge(cp,on='coupon_id',how='left'))\n",
    "    df_finn=pd.concat([df_finn,chunk])\n",
    "df_finn['past_action_cp']=df_finn['past_action_cp'].fillna(0)"
   ]
  },
  {
   "cell_type": "code",
   "execution_count": 133,
   "metadata": {},
   "outputs": [],
   "source": [
    "skf=TimeSeriesSplit(n_splits=3)"
   ]
  },
  {
   "cell_type": "code",
   "execution_count": 134,
   "metadata": {},
   "outputs": [],
   "source": [
    "dates=pd.DataFrame()\n",
    "dates['start_date']=df_finn['start_date'].unique()\n",
    "dates['end_date']=df_finn['end_date'].unique()"
   ]
  },
  {
   "cell_type": "code",
   "execution_count": 135,
   "metadata": {},
   "outputs": [
    {
     "name": "stdout",
     "output_type": "stream",
     "text": [
      "0\n",
      "1\n",
      "2\n",
      "3\n",
      "4\n",
      "5\n",
      "6\n",
      "7\n",
      "8\n",
      "9\n",
      "10\n",
      "11\n",
      "12\n",
      "13\n",
      "14\n",
      "15\n",
      "16\n"
     ]
    }
   ],
   "source": [
    "# Item level historic feature\n",
    "dlist=[]\n",
    "clist=[]\n",
    "ilist=[]\n",
    "for i in range(dates.shape[0]):\n",
    "    print(i)\n",
    "#     print(dates['start_date'][i])\n",
    "    l1=df_finn[df_finn.start_date==dates['start_date'][i]]\n",
    "    l2=customer_transaction_data\n",
    "    l3=l2[(l2.date>=dates['start_date'][i]) & (l2.date<=dates['end_date'][i])]\n",
    "    l4=l2[l2.date<dates['start_date'][i]]\n",
    "    group=(l4.groupby('customer_id')['item_id'].unique().reset_index())\n",
    "    group['item_id']=[list(h) for h in group['item_id']]\n",
    "    dd={}\n",
    "    for p in range(group.shape[0]):\n",
    "        dd[group['customer_id'][p]]=group['item_id'][p]\n",
    "    uniq_customers=l3['customer_id'].unique()\n",
    "    for j in uniq_customers:\n",
    "#         print(j)\n",
    "        try:\n",
    "            l_cust=l3[l3.customer_id==j]\n",
    "            gr=dd[j]\n",
    "            ctr=0\n",
    "            for w in l_cust['item_id'].unique():\n",
    "                if w in (dd[j]):\n",
    "                    ctr=ctr+1\n",
    "                    dlist.append(dates['start_date'][i])\n",
    "#                     print(dates['start_date'][i])\n",
    "                    ilist.append(w)\n",
    "                    clist.append(j)\n",
    "#                     print(j)\n",
    "#                     print(w)\n",
    "#                     print(1)\n",
    "#             print(ctr)\n",
    "        except:\n",
    "            pass\n",
    "item_level=pd.DataFrame()\n",
    "item_level['customer_id']=clist\n",
    "item_level['item_id']=ilist\n",
    "item_level['start_date']=dlist\n",
    "item_level.to_csv('item_level.csv',index=False)\n",
    "item_level=pd.read_csv('item_level.csv')\n",
    "item_level['start_date']=pd.to_datetime(item_level['start_date'])\n",
    "it_level=item_level.groupby(['customer_id','start_date'])['item_id'].count().reset_index()\n",
    "it_level.columns=['customer_id','start_date','no_of_previous_clicks']\n",
    "df_finn=df_finn.merge(it_level,on=['customer_id','start_date'],how='left')\n",
    "list_items=item_level.groupby(['customer_id','start_date'])['item_id'].unique().reset_index()\n",
    "list_items.columns=['customer_id','start_date','all_items']\n",
    "list_items['all_items']=[list(h) for h in list_items['all_items']]\n",
    "df_finn=df_finn.merge(list_items,on=['customer_id','start_date'],how='left')\n",
    "cp_item=coupon_item_data.groupby('coupon_id')['item_id'].unique().reset_index()\n",
    "cp_item.columns=['coupon_id','all_items_cp']\n",
    "cp_item['all_items_cp']=[list(h) for h in cp_item['all_items_cp']]\n",
    "df_finn=df_finn.merge(cp_item,on=['coupon_id'],how='left')\n",
    "match=[]\n",
    "for i in range(df_finn.shape[0]):\n",
    "    try:\n",
    "        list1=df_finn['all_items'][i]\n",
    "        list2=df_finn['all_items_cp'][i]\n",
    "        val=len((list(set(list1).intersection(list2))))\n",
    "        match.append(val)\n",
    "    except:\n",
    "        match.append(0)\n",
    "        pass\n",
    "df_finn['match']=match\n",
    "df_finn['match_rate']=df_finn['match']/df_finn['no_of_previous_clicks']"
   ]
  },
  {
   "cell_type": "code",
   "execution_count": 136,
   "metadata": {},
   "outputs": [
    {
     "name": "stdout",
     "output_type": "stream",
     "text": [
      "[10]\tcv_agg's auc: 0.897704 + 0.0251686\n",
      "[20]\tcv_agg's auc: 0.902592 + 0.0221994\n",
      "[30]\tcv_agg's auc: 0.907545 + 0.0208285\n",
      "[40]\tcv_agg's auc: 0.910785 + 0.0197212\n",
      "[50]\tcv_agg's auc: 0.920782 + 0.0173361\n",
      "[60]\tcv_agg's auc: 0.925958 + 0.0166595\n",
      "[70]\tcv_agg's auc: 0.928416 + 0.0129454\n",
      "[80]\tcv_agg's auc: 0.931066 + 0.0110037\n",
      "[90]\tcv_agg's auc: 0.932112 + 0.0102374\n",
      "[100]\tcv_agg's auc: 0.933408 + 0.0102276\n",
      "[110]\tcv_agg's auc: 0.933328 + 0.00910989\n",
      "[120]\tcv_agg's auc: 0.934132 + 0.00900695\n",
      "[130]\tcv_agg's auc: 0.934362 + 0.00924967\n",
      "[140]\tcv_agg's auc: 0.934351 + 0.00926948\n",
      "[150]\tcv_agg's auc: 0.93483 + 0.00981309\n",
      "[160]\tcv_agg's auc: 0.935097 + 0.0102664\n",
      "[170]\tcv_agg's auc: 0.935739 + 0.010457\n",
      "[180]\tcv_agg's auc: 0.935373 + 0.0107075\n",
      "[190]\tcv_agg's auc: 0.935072 + 0.0110228\n",
      "[200]\tcv_agg's auc: 0.935632 + 0.0106599\n",
      "[210]\tcv_agg's auc: 0.935033 + 0.0105038\n",
      "[220]\tcv_agg's auc: 0.934814 + 0.0107835\n",
      "[230]\tcv_agg's auc: 0.935112 + 0.0109644\n",
      "[240]\tcv_agg's auc: 0.935517 + 0.0107914\n",
      "[250]\tcv_agg's auc: 0.934822 + 0.0111655\n",
      "[260]\tcv_agg's auc: 0.934661 + 0.0110172\n",
      "[270]\tcv_agg's auc: 0.93466 + 0.0111067\n",
      "[280]\tcv_agg's auc: 0.93427 + 0.0112518\n",
      "[290]\tcv_agg's auc: 0.933842 + 0.0119027\n",
      "[300]\tcv_agg's auc: 0.934021 + 0.0118628\n",
      "[310]\tcv_agg's auc: 0.933812 + 0.0121015\n",
      "[320]\tcv_agg's auc: 0.933986 + 0.0123257\n",
      "[330]\tcv_agg's auc: 0.933372 + 0.0130508\n",
      "[340]\tcv_agg's auc: 0.93307 + 0.0132279\n",
      "[350]\tcv_agg's auc: 0.932823 + 0.0126612\n",
      "[360]\tcv_agg's auc: 0.93271 + 0.0128421\n",
      "[370]\tcv_agg's auc: 0.932652 + 0.0129767\n",
      "[380]\tcv_agg's auc: 0.932327 + 0.0131338\n",
      "[390]\tcv_agg's auc: 0.931457 + 0.0133968\n",
      "[400]\tcv_agg's auc: 0.93154 + 0.0133265\n",
      "[410]\tcv_agg's auc: 0.931185 + 0.0130546\n",
      "[420]\tcv_agg's auc: 0.93063 + 0.0134146\n",
      "[430]\tcv_agg's auc: 0.93075 + 0.0131964\n",
      "[440]\tcv_agg's auc: 0.931108 + 0.0129612\n",
      "[450]\tcv_agg's auc: 0.931061 + 0.0129624\n",
      "[460]\tcv_agg's auc: 0.930412 + 0.0134232\n",
      "[470]\tcv_agg's auc: 0.930167 + 0.0134553\n",
      "[480]\tcv_agg's auc: 0.930465 + 0.0131895\n",
      "[490]\tcv_agg's auc: 0.930328 + 0.0131583\n",
      "[500]\tcv_agg's auc: 0.930116 + 0.0132151\n",
      "[510]\tcv_agg's auc: 0.929864 + 0.0132116\n",
      "[520]\tcv_agg's auc: 0.92999 + 0.0129988\n",
      "[530]\tcv_agg's auc: 0.929553 + 0.013137\n",
      "[540]\tcv_agg's auc: 0.929794 + 0.0130271\n",
      "[550]\tcv_agg's auc: 0.929701 + 0.0131632\n",
      "[560]\tcv_agg's auc: 0.929543 + 0.013335\n",
      "[570]\tcv_agg's auc: 0.92963 + 0.0133471\n",
      "[580]\tcv_agg's auc: 0.92921 + 0.0133625\n",
      "[590]\tcv_agg's auc: 0.928533 + 0.0135984\n",
      "[600]\tcv_agg's auc: 0.929021 + 0.0135923\n",
      "[610]\tcv_agg's auc: 0.928603 + 0.0136029\n",
      "[620]\tcv_agg's auc: 0.92821 + 0.0139103\n",
      "[630]\tcv_agg's auc: 0.927784 + 0.0143291\n",
      "[640]\tcv_agg's auc: 0.927536 + 0.0142566\n",
      "[650]\tcv_agg's auc: 0.927839 + 0.0140242\n",
      "[660]\tcv_agg's auc: 0.927196 + 0.0144009\n",
      "[670]\tcv_agg's auc: 0.927227 + 0.0147267\n",
      "[680]\tcv_agg's auc: 0.92743 + 0.0146919\n",
      "[690]\tcv_agg's auc: 0.927278 + 0.0147324\n",
      "[700]\tcv_agg's auc: 0.927314 + 0.0149362\n",
      "[710]\tcv_agg's auc: 0.926773 + 0.0150514\n",
      "[720]\tcv_agg's auc: 0.926934 + 0.0147185\n",
      "[730]\tcv_agg's auc: 0.927077 + 0.0145404\n",
      "[740]\tcv_agg's auc: 0.92715 + 0.0146535\n",
      "[750]\tcv_agg's auc: 0.926938 + 0.0149606\n",
      "[760]\tcv_agg's auc: 0.926298 + 0.015257\n",
      "[770]\tcv_agg's auc: 0.926376 + 0.0153498\n"
     ]
    }
   ],
   "source": [
    "# cv after tuning\n",
    "params={'silent': 1, 'verbose_eval': True, 'objective': 'binary', 'device': 'cpu', 'boosting': 'gbdt', 'metric': 'auc', 'boost_from_average': False,'is_unbalance':False}\n",
    "# params={'min_sum_hessian_in_leaf': 7, 'min_data_in_leaf': 199, 'num_leaves': 177, 'subsample': 0.8851075767950967, 'colsample_bytree': 0.1000305658063477, 'learning_rate': 0.10457546338993426, 'silent': 1, 'verbose_eval': True, 'objective': 'binary', 'device': 'cpu', 'boosting': 'gbdt', 'max_depth': 19, 'bagging_freq': 14, 'metric': 'auc', 'boost_from_average': False}\n",
    "# params={'min_sum_hessian_in_leaf': 13, 'min_data_in_leaf': 101, 'num_leaves': 136, 'subsample': 0.813509380608935, 'colsample_bytree': 0.9978115192060428, 'learning_rate': 0.19924954492374536, 'silent': 1, 'verbose_eval': True, 'objective': 'binary', 'device': 'cpu', 'boosting': 'gbdt', 'max_depth': 11, 'bagging_freq': 13, 'metric': 'auc', 'boost_from_average': False}\n",
    "# params={'min_sum_hessian_in_leaf': 6, 'min_data_in_leaf': 141, 'num_leaves': 115, 'subsample': 0.971424750570441, 'colsample_bytree': 0.33841497540363357, 'learning_rate': 0.09209489389522763, 'silent': 1, 'verbose_eval': True, 'objective': 'binary', 'device': 'cpu', 'boosting': 'gbdt', 'max_depth': 8, 'bagging_freq': 8, 'metric': 'auc', 'boost_from_average': False}\n",
    "# params={'min_sum_hessian_in_leaf': 7, 'min_data_in_leaf': 378, 'num_leaves': 3, 'subsample': 0.7977855288629624, 'colsample_bytree': 0.997871973126593, 'learning_rate': 0.09425304277867097, 'silent': 1, 'verbose_eval': True, 'objective': 'binary', 'device': 'cpu', 'boosting': 'gbdt', 'max_depth': 1, 'bagging_freq': 14, 'metric': 'auc', 'boost_from_average': False}\n",
    "params={'min_sum_hessian_in_leaf': 10, 'min_data_in_leaf': 209, 'num_leaves': 56, 'subsample': 0.9836720837731385, 'colsample_bytree': 0.5572015972699615, 'learning_rate': 0.11758858551341646, 'silent': 1, 'verbose_eval': True, 'objective': 'binary', 'device': 'cpu', 'boosting': 'gbdt', 'max_depth': 2, 'bagging_freq': 5, 'metric': 'auc', 'boost_from_average': False}\n",
    "lgtrain = lgb.Dataset(df_finn[cols], label=df_finn['redemption_status'],categorical_feature=['campaign_type','marital_status'])\n",
    "cv = lgb.cv(params,\n",
    "                lgtrain,metrics='auc',\n",
    "                num_boost_round=15000,\n",
    "                early_stopping_rounds=600,verbose_eval=10,folds=skf.split(df_finn))"
   ]
  },
  {
   "cell_type": "code",
   "execution_count": 137,
   "metadata": {},
   "outputs": [
    {
     "data": {
      "text/plain": [
       "array([0.92924752, 0.93322592, 0.95310121])"
      ]
     },
     "execution_count": 137,
     "metadata": {},
     "output_type": "execute_result"
    }
   ],
   "source": [
    "from sklearn.model_selection import cross_val_score\n",
    "params['n_estimators']=len(cv['auc-mean'])\n",
    "cross_val_score(lgb.LGBMClassifier(**params),df_finn[cols],df_finn['redemption_status'],scoring='roc_auc',cv=3)"
   ]
  },
  {
   "cell_type": "code",
   "execution_count": 138,
   "metadata": {},
   "outputs": [
    {
     "data": {
      "text/plain": [
       "0.010316546883016349"
      ]
     },
     "execution_count": 138,
     "metadata": {},
     "output_type": "execute_result"
    }
   ],
   "source": [
    "cv['auc-stdv'][-1]"
   ]
  },
  {
   "cell_type": "code",
   "execution_count": 139,
   "metadata": {},
   "outputs": [
    {
     "data": {
      "text/plain": [
       "0.9357890495434442"
      ]
     },
     "execution_count": 139,
     "metadata": {},
     "output_type": "execute_result"
    }
   ],
   "source": [
    "cv['auc-mean'][-1]"
   ]
  },
  {
   "cell_type": "code",
   "execution_count": 140,
   "metadata": {},
   "outputs": [
    {
     "data": {
      "text/plain": [
       "174"
      ]
     },
     "execution_count": 140,
     "metadata": {},
     "output_type": "execute_result"
    }
   ],
   "source": [
    "len(cv['auc-mean'])"
   ]
  },
  {
   "cell_type": "code",
   "execution_count": 141,
   "metadata": {},
   "outputs": [
    {
     "name": "stderr",
     "output_type": "stream",
     "text": [
      "/home/Mahir/anaconda3/lib/python3.7/site-packages/lightgbm/basic.py:1205: UserWarning: Using categorical_feature in Dataset.\n",
      "  warnings.warn('Using categorical_feature in Dataset.')\n",
      "/home/Mahir/anaconda3/lib/python3.7/site-packages/lightgbm/basic.py:741: UserWarning: silent keyword has been found in `params` and will be ignored.\n",
      "Please use silent argument of the Dataset constructor to pass this parameter.\n",
      "  .format(key))\n"
     ]
    }
   ],
   "source": [
    "# cv after tuning\n",
    "params={'silent': 1, 'verbose_eval': True, 'objective': 'binary', 'device': 'cpu', 'boosting': 'gbdt', 'metric': 'auc', 'boost_from_average': False,'is_unbalance':False}\n",
    "# params={'min_sum_hessian_in_leaf': 7, 'min_data_in_leaf': 199, 'num_leaves': 177, 'subsample': 0.8851075767950967, 'colsample_bytree': 0.1000305658063477, 'learning_rate': 0.10457546338993426, 'silent': 1, 'verbose_eval': True, 'objective': 'binary', 'device': 'cpu', 'boosting': 'gbdt', 'max_depth': 19, 'bagging_freq': 14, 'metric': 'auc', 'boost_from_average': False, 'n_estimators': 87}\n",
    "# params={'min_sum_hessian_in_leaf': 6, 'min_data_in_leaf': 141, 'num_leaves': 115, 'subsample': 0.971424750570441, 'colsample_bytree': 0.35841497540363357, 'learning_rate': 0.09209489389522763, 'silent': 1, 'verbose_eval': True, 'objective': 'binary', 'device': 'cpu', 'boosting': 'gbdt', 'max_depth': 8, 'bagging_freq': 8, 'metric': 'auc', 'boost_from_average': False}\n",
    "# params={'min_sum_hessian_in_leaf': 7, 'min_data_in_leaf': 378, 'num_leaves': 3, 'subsample': 0.7977855288629624, 'colsample_bytree': 0.997871973126593, 'learning_rate': 0.09425304277867097, 'silent': 1, 'verbose_eval': True, 'objective': 'binary', 'device': 'cpu', 'boosting': 'gbdt', 'max_depth': 1, 'bagging_freq': 14, 'metric': 'auc', 'boost_from_average': False}\n",
    "params={'min_sum_hessian_in_leaf': 10, 'min_data_in_leaf': 209, 'num_leaves': 56, 'subsample': 0.9836720837731385, 'colsample_bytree': 0.5572015972699615, 'learning_rate': 0.11758858551341646, 'silent': 1, 'verbose_eval': True, 'objective': 'binary', 'device': 'cpu', 'boosting': 'gbdt', 'max_depth': 2, 'bagging_freq': 5, 'metric': 'auc', 'boost_from_average': False}\n",
    "lgtrain = lgb.Dataset(df_finn[cols], label=df_finn['redemption_status'],categorical_feature=['campaign_type','marital_status'])\n",
    "model = lgb.train(params,\n",
    "                lgtrain,\n",
    "                num_boost_round=len(cv['auc-mean']),verbose_eval=10)"
   ]
  },
  {
   "cell_type": "code",
   "execution_count": 142,
   "metadata": {},
   "outputs": [
    {
     "data": {
      "text/plain": [
       "174"
      ]
     },
     "execution_count": 142,
     "metadata": {},
     "output_type": "execute_result"
    }
   ],
   "source": [
    "model.num_trees()"
   ]
  },
  {
   "cell_type": "code",
   "execution_count": 146,
   "metadata": {},
   "outputs": [
    {
     "data": {
      "text/plain": [
       "<matplotlib.axes._subplots.AxesSubplot at 0x7fcfd59e8470>"
      ]
     },
     "execution_count": 146,
     "metadata": {},
     "output_type": "execute_result"
    },
    {
     "data": {
      "image/png": "[encoded data removed]",
      "text/plain": [
       "<Figure size 432x288 with 1 Axes>"
      ]
     },
     "metadata": {
      "needs_background": "light"
     },
     "output_type": "display_data"
    }
   ],
   "source": [
    "lgb.plot_importance(model,importance_type='gain')"
   ]
  },
  {
   "cell_type": "code",
   "execution_count": 151,
   "metadata": {},
   "outputs": [],
   "source": [
    "relevant_transactions['ratio']=abs(relevant_transactions['coupon_discount']/relevant_transactions['selling_price'])\n",
    "customer_uniq_item_count=relevant_transactions.groupby(['customer_id'])['item_id'].nunique().reset_index()\n",
    "customer_uniq_item_count.columns=['customer_id','uniq_item_count']\n",
    "customer_item_count=relevant_transactions.groupby(['customer_id'])['item_id'].count().reset_index()\n",
    "customer_item_count.columns=['customer_id','item_count']\n",
    "customer_total_item_count=relevant_transactions.groupby('customer_id')['quantity'].sum().reset_index()\n",
    "customer_total_item_count.columns=['customer_id','total_item_count']\n",
    "discounts_count_coupon=relevant_transactions[relevant_transactions['coupon_discount']<0].groupby('customer_id')['coupon_discount'].count().reset_index()\n",
    "discounts_count_coupon.columns=['customer_id','disc_count']\n",
    "discounts_count_other=relevant_transactions[relevant_transactions['other_discount']<0].groupby('customer_id')['other_discount'].count().reset_index()\n",
    "discounts_count_other.columns=['customer_id','disc_count_other']\n",
    "cust_price=relevant_transactions.groupby(['customer_id'])['selling_price'].agg(['min','max','mean','sum']).reset_index()\n",
    "cust_price.columns=['customer_id','min_price','max_price','mean_price','sum']\n",
    "discounts_feats_coupon=relevant_transactions[relevant_transactions['coupon_discount']<0].groupby('customer_id')['coupon_discount'].agg(['min','max','mean','sum']).reset_index()\n",
    "discounts_feats_coupon.columns=['customer_id','min_disc','max_disc','mean_disc','sum_disc']\n",
    "mean_disc_to_price=relevant_transactions[relevant_transactions['coupon_discount']<0].groupby('customer_id')['ratio'].agg(['min','max','mean']).reset_index()\n",
    "mean_disc_to_price.columns=['customer_id','min_rat','max_rat','mean_rat']\n",
    "test_main=test_demo.merge(customer_uniq_item_count,on='customer_id',how='left')\n",
    "test_main=test_main.merge(customer_item_count,on='customer_id',how='left')\n",
    "test_main=test_main.merge(discounts_count_coupon,on='customer_id',how='left')\n",
    "test_main=test_main.merge(discounts_count_other,on='customer_id',how='left')\n",
    "test_main=test_main.merge(cust_price,on='customer_id',how='left')\n",
    "test_main=test_main.merge(discounts_feats_coupon,on='customer_id',how='left')\n",
    "test_main=test_main.merge(mean_disc_to_price,on='customer_id',how='left')\n",
    "test_main=test_main.merge(customer_total_item_count,on='customer_id',how='left')\n",
    "test_main['min_disc']=abs(test_main['min_disc'])\n",
    "test_main['max_disc']=abs(test_main['max_disc'])\n",
    "test_main['mean_disc']=abs(test_main['mean_disc'])\n",
    "test_main['sum_disc']=abs(test_main['sum_disc'])\n",
    "target_enc_test = df_target.groupby(by = ['coupon_id'])['redemption_status'].agg(['sum','count']).reset_index()\n",
    "target_enc_test.columns = ['coupon_id',\"target_sum\",\"target_count\"]\n",
    "target_enc_test['encoding_coupon'] = target_enc_test.target_sum/target_enc_test.target_count\n",
    "test_main=test_main.merge(target_enc_test,on='coupon_id',how='left')\n",
    "test_main=test_main.merge(embeds_brand,on='coupon_id',how='left')\n",
    "test_main=test_main.merge(embeds_item,on='coupon_id',how='left')\n",
    "test_main=test_main.merge(unique_item_data,on='coupon_id',how='left')\n",
    "test_main=test_main.merge(cp,on='coupon_id',how='left')\n",
    "test_main=test_main.merge(target_enc1,on='coupon_id',how='left')\n",
    "test_main['rat']=test_main['encoding_coupon']/test_main['encoding']\n",
    "people_coupons1=df_fin[df_fin['redemption_status']==1].groupby('coupon_id')['customer_id'].nunique().reset_index()\n",
    "people_coupons1.columns=['coupon_id','no_of_users']\n",
    "test_main=test_main.merge(people_coupons1,on='coupon_id',how='left')\n",
    "cpt=df_fin.groupby('customer_id')['redemption_status'].sum().reset_index()\n",
    "cpt.columns=['customer_id','past_action']\n",
    "test_main=(test_main.merge(cpt,on='customer_id',how='left'))\n",
    "uniq_brands_t=relevant_transactions.groupby(['customer_id'])['brand'].nunique().reset_index()\n",
    "uniq_brands_t.columns=['customer_id','uniq_brand_count']\n",
    "test_main=(test_main.merge(uniq_brands_t,on='customer_id',how='left'))"
   ]
  },
  {
   "cell_type": "code",
   "execution_count": 152,
   "metadata": {},
   "outputs": [],
   "source": [
    "it_level_t=customer_transaction_data.groupby(['customer_id'])['item_id'].nunique().reset_index()\n",
    "it_level_t.columns=['customer_id','no_of_previous_clicks']\n",
    "test_main=test_main.merge(it_level_t,on=['customer_id'],how='left')\n",
    "list_items1=customer_transaction_data.groupby(['customer_id'])['item_id'].unique().reset_index()\n",
    "list_items1.columns=['customer_id','all_items']\n",
    "list_items1['all_items']=[list(h) for h in list_items1['all_items']]\n",
    "test_main=test_main.merge(list_items1,on=['customer_id'],how='left')\n",
    "cp_item1=coupon_item_data.groupby('coupon_id')['item_id'].unique().reset_index()\n",
    "cp_item1.columns=['coupon_id','all_items_cp']\n",
    "cp_item1['all_items_cp']=[list(h) for h in cp_item1['all_items_cp']]\n",
    "test_main=test_main.merge(cp_item1,on=['coupon_id'],how='left')\n",
    "match1=[]\n",
    "for i in range(test_main.shape[0]):\n",
    "    try:\n",
    "        list11=test_main['all_items'][i]\n",
    "        list21=test_main['all_items_cp'][i]\n",
    "        val1=len((list(set(list11).intersection(list21))))\n",
    "        match1.append(val1)\n",
    "    except:\n",
    "        match1.append(0)\n",
    "        pass\n",
    "test_main['match']=match1\n",
    "test_main['match_rate']=test_main['match']/test_main['no_of_previous_clicks']"
   ]
  },
  {
   "cell_type": "code",
   "execution_count": 155,
   "metadata": {},
   "outputs": [],
   "source": [
    "op=pd.DataFrame()\n",
    "op['id']=test_main['id']\n",
    "op['redemption_status']=model.predict(test_main[cols])\n",
    "op.to_csv('op.csv',index=False)"
   ]
  },
  {
   "cell_type": "code",
   "execution_count": 144,
   "metadata": {},
   "outputs": [],
   "source": [
    "# # Hyperparameter tuning\n",
    "# param_dict={}\n",
    "# space = {'max_depth': hp.choice('max_depth', np.arange(-1, 20,dtype=int)),\n",
    "#          'min_data_in_leaf': hp.choice('min_data_in_leaf', np.arange(10, 400,dtype=int)),\n",
    "#          'min_sum_hessian_in_leaf': hp.choice('min_sum_hessian_in_leaf', np.arange(0, 15,dtype=int)),\n",
    "#          'num_leaves': hp.choice('num_leaves', np.arange(2, 200, dtype=int)),\n",
    "#          'bagging_freq': hp.choice('bagging_freq', np.arange(1, 20, dtype=int)),\n",
    "#          'subsample': hp.uniform('subsample', 0, 1),\n",
    "#          'colsample_bytree': hp.uniform('colsample_bytree', 0, 1),\n",
    "#         'learning_rate': hp.uniform('learning_rate', 0.08, 0.2),\n",
    "#         }\n",
    "\n",
    "\n",
    "# def objective(space):\n",
    "#     params = {\n",
    "#         'min_sum_hessian_in_leaf': space['min_sum_hessian_in_leaf'],\n",
    "#         'min_data_in_leaf':space['min_data_in_leaf'],\n",
    "#             'num_leaves':space['num_leaves'],\n",
    "#              'subsample': space['subsample'],\n",
    "#             'colsample_bytree': space['colsample_bytree'],\n",
    "#             'learning_rate':space['learning_rate'],\n",
    "#             'silent': 1,\n",
    "#             'verbose_eval': True,\n",
    "#             \"objective\":\"binary\",\n",
    "#         'device':'cpu',\n",
    "#         \"boosting\":\"gbdt\",\n",
    "#         'max_depth':space['max_depth'],\n",
    "#         'bagging_freq':space['bagging_freq'],\n",
    "#           'metric':\"auc\",\n",
    "#     'boost_from_average':False,\n",
    "#     }\n",
    "#     lgtrain = lgb.Dataset(df_finn[cols], label=df_finn['redemption_status'],categorical_feature=['campaign_type','marital_status'])\n",
    "#     cv = lgb.cv(params,\n",
    "#                 lgtrain,metrics='auc',\n",
    "#                 num_boost_round=15000,\n",
    "#                 early_stopping_rounds=600,verbose_eval=500,folds=skf.split(df_finn))\n",
    "#     au = (cv['auc-mean'][-1])\n",
    "#     params['n_estimators']=len(cv['auc-mean'])\n",
    "#     param_dict[au]=params\n",
    "#     pickle.dump(param_dict,open('params','wb'))\n",
    "#     print(params, file=open(\"output_lgb.txt\", \"a\"))\n",
    "#     print(params)\n",
    "#     print('max='+str(max(param_dict.keys())))\n",
    "#     print ('auc = ', au)\n",
    "#     print(au, file=open(\"output_lgb.txt\", \"a\"))\n",
    "#     return{'loss': -au, 'status': STATUS_OK}\n",
    "\n",
    "\n",
    "# trials = Trials()\n",
    "# best = hyperopt.fmin(fn=objective,\n",
    "#             space=space,\n",
    "#             algo=tpe.suggest,\n",
    "#             max_evals=10000,\n",
    "#             trials=trials\n",
    "#             )\n",
    "\n",
    "# print(best)\n",
    "\n",
    "# fName = open('trials.pkl', 'w')\n",
    "# pickle.dump(trials, fName)\n",
    "# fName.close()"
   ]
  }
 ],
 "metadata": {
  "kernelspec": {
   "display_name": "Python 3",
   "language": "python",
   "name": "python3"
  },
  "language_info": {
   "codemirror_mode": {
    "name": "ipython",
    "version": 3
   },
   "file_extension": ".py",
   "mimetype": "text/x-python",
   "name": "python",
   "nbconvert_exporter": "python",
   "pygments_lexer": "ipython3",
   "version": "3.7.0"
  }
 },
 "nbformat": 4,
 "nbformat_minor": 2
}
