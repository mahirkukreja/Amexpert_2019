{
 "cells": [
  {
   "cell_type": "code",
   "execution_count": 1,
   "metadata": {},
   "outputs": [],
   "source": [
    "## Imports\n",
    "import pandas as pd\n",
    "import numpy as np\n",
    "from sklearn.preprocessing import LabelEncoder\n",
    "import category_encoders\n",
    "from sklearn.model_selection import GroupKFold,TimeSeriesSplit\n",
    "import hyperopt\n",
    "from hyperopt import hp, tpe, STATUS_OK, Trials\n",
    "import pickle\n",
    "import gensim\n",
    "import lightgbm as lgb\n",
    "from sklearn.feature_extraction.text import CountVectorizer,TfidfVectorizer\n",
    "import time"
   ]
  },
  {
   "cell_type": "code",
   "execution_count": 2,
   "metadata": {},
   "outputs": [],
   "source": [
    "## Data Sources\n",
    "train=pd.read_csv('train.csv')\n",
    "test=pd.read_csv('test_QyjYwdj.csv')\n",
    "campaign_data=pd.read_csv('campaign_data.csv')\n",
    "coupon_item_mapping=pd.read_csv('coupon_item_mapping.csv')\n",
    "customer_demographics=pd.read_csv('customer_demographics.csv')\n",
    "item_data=pd.read_csv('item_data.csv')\n",
    "customer_transaction_data=pd.read_csv('customer_transaction_data.csv')"
   ]
  },
  {
   "cell_type": "code",
   "execution_count": 8,
   "metadata": {},
   "outputs": [],
   "source": [
    "## Mege train and test set with campaign information\n",
    "train_campaign=train.merge(campaign_data,on='campaign_id')\n",
    "test_campaign=test.merge(campaign_data,on='campaign_id')"
   ]
  },
  {
   "cell_type": "code",
   "execution_count": 9,
   "metadata": {},
   "outputs": [],
   "source": [
    "## Use convert to datetime and use dayfirst=True to correct the date\n",
    "train_campaign['start_date']=pd.to_datetime(train_campaign['start_date'],dayfirst=True)\n",
    "train_campaign['end_date']=pd.to_datetime(train_campaign['end_date'],dayfirst=True)\n",
    "test_campaign['start_date']=pd.to_datetime(test_campaign['start_date'],dayfirst=True)\n",
    "test_campaign['end_date']=pd.to_datetime(test_campaign['end_date'],dayfirst=True)"
   ]
  },
  {
   "cell_type": "code",
   "execution_count": 10,
   "metadata": {},
   "outputs": [],
   "source": [
    "## Generate features from coupon item mapping\n",
    "## 3 features : Unique items, brands, brand types in a coupon\n",
    "coupon_item_data=coupon_item_mapping.merge(item_data,on='item_id',how='left')\n",
    "unique_item_data=pd.DataFrame(coupon_item_data.groupby('coupon_id')['item_id','brand','brand_type'].agg(['unique']).reset_index())\n",
    "unique_item_data.columns=['coupon_id','item_id_uniq','brand_uniq','brand_type_uniq']\n",
    "unique_item_data['item_id_uniq']=[len(i) for i in unique_item_data['item_id_uniq']]\n",
    "unique_item_data['brand_uniq']=[len(i) for i in unique_item_data['brand_uniq']]\n",
    "unique_item_data['brand_type_uniq']=[len(i) for i in unique_item_data['brand_type_uniq']]"
   ]
  },
  {
   "cell_type": "code",
   "execution_count": 11,
   "metadata": {},
   "outputs": [],
   "source": [
    "## Merge train and test set with customer demographics\n",
    "train_demo=train_campaign.merge(customer_demographics,on='customer_id',how='left')\n",
    "test_demo=test_campaign.merge(customer_demographics,on='customer_id',how='left')"
   ]
  },
  {
   "cell_type": "code",
   "execution_count": 12,
   "metadata": {},
   "outputs": [],
   "source": [
    "## Fill ordinal categories with appropriate values for the model to be able to learn them\n",
    "train_demo['family_size']=train_demo['family_size'].replace({'1':1, '2':2, '3':3, '4':4 ,'5+':5})\n",
    "train_demo['no_of_children']=train_demo['no_of_children'].replace({'1':1, '2':2, '3+':3})\n",
    "train_demo['age_range']=train_demo['age_range'].replace({'18-25':1,'26-35':2,'36-45':3,'46-55':4,'56-70':5,'70+':6})\n",
    "train_demo['marital_status']=train_demo['marital_status'].replace({'Married':0,'Single':1})\n",
    "test_demo['family_size']=test_demo['family_size'].replace({'1':1, '2':2, '3':3, '4':4 ,'5+':5})\n",
    "test_demo['no_of_children']=test_demo['no_of_children'].replace({'1':1, '2':2, '3+':3})\n",
    "test_demo['age_range']=test_demo['age_range'].replace({'18-25':1,'26-35':2,'36-45':3,'46-55':4,'56-70':5,'70+':6})\n",
    "test_demo['marital_status']=test_demo['marital_status'].replace({'Married':0,'Single':1})"
   ]
  },
  {
   "cell_type": "code",
   "execution_count": 13,
   "metadata": {},
   "outputs": [],
   "source": [
    "## Encode campaign type\n",
    "lb=LabelEncoder()\n",
    "train_demo['campaign_type']=lb.fit_transform(train_demo['campaign_type'])\n",
    "test_demo['campaign_type']=lb.transform(test_demo['campaign_type'])"
   ]
  },
  {
   "cell_type": "code",
   "execution_count": 14,
   "metadata": {},
   "outputs": [],
   "source": [
    "cols=['campaign_type','age_range',\n",
    "       'marital_status', 'rented', 'family_size', 'no_of_children',\n",
    "       'income_bracket']"
   ]
  },
  {
   "cell_type": "code",
   "execution_count": 15,
   "metadata": {},
   "outputs": [
    {
     "name": "stderr",
     "output_type": "stream",
     "text": [
      "/home/Mahir/anaconda3/lib/python3.7/site-packages/ipykernel_launcher.py:3: SettingWithCopyWarning: \n",
      "A value is trying to be set on a copy of a slice from a DataFrame.\n",
      "Try using .loc[row_indexer,col_indexer] = value instead\n",
      "\n",
      "See the caveats in the documentation: http://pandas.pydata.org/pandas-docs/stable/user_guide/indexing.html#returning-a-view-versus-a-copy\n",
      "  This is separate from the ipykernel package so we can avoid doing imports until\n"
     ]
    }
   ],
   "source": [
    "## Cleaning the date in the transaction data, filtering it out only on valid items in coupon item mapping\n",
    "uniq_items=coupon_item_mapping['item_id'].unique()\n",
    "relevant_transactions=customer_transaction_data[customer_transaction_data['item_id'].isin(uniq_items)]\n",
    "relevant_transactions['date']=pd.to_datetime(customer_transaction_data['date'],dayfirst=True)\n",
    "customer_transaction_data['date']=pd.to_datetime(customer_transaction_data['date'],dayfirst=True)"
   ]
  },
  {
   "cell_type": "code",
   "execution_count": 16,
   "metadata": {},
   "outputs": [],
   "source": [
    "## Merging brand information from coupon level data with customer transactions\n",
    "item_brands=coupon_item_data[['item_id','brand']].drop_duplicates()\n",
    "relevant_transactions=relevant_transactions.merge(item_brands,on='item_id',how='left')"
   ]
  },
  {
   "cell_type": "code",
   "execution_count": 17,
   "metadata": {},
   "outputs": [
    {
     "name": "stdout",
     "output_type": "stream",
     "text": [
      "1\n"
     ]
    },
    {
     "name": "stderr",
     "output_type": "stream",
     "text": [
      "/home/Mahir/anaconda3/lib/python3.7/site-packages/ipykernel_launcher.py:10: SettingWithCopyWarning: \n",
      "A value is trying to be set on a copy of a slice from a DataFrame.\n",
      "Try using .loc[row_indexer,col_indexer] = value instead\n",
      "\n",
      "See the caveats in the documentation: http://pandas.pydata.org/pandas-docs/stable/user_guide/indexing.html#returning-a-view-versus-a-copy\n",
      "  # Remove the CWD from sys.path while we load stuff.\n"
     ]
    },
    {
     "name": "stdout",
     "output_type": "stream",
     "text": [
      "2\n",
      "3\n",
      "4\n",
      "5\n",
      "6\n",
      "7\n",
      "8\n",
      "9\n",
      "10\n",
      "11\n",
      "12\n",
      "13\n",
      "14\n",
      "15\n",
      "16\n",
      "17\n",
      "9.753772258758545\n"
     ]
    }
   ],
   "source": [
    "## Engineering various customer level features from customer transactions data on past dates to avoid leakage\n",
    "## Some features could be\n",
    "#  1) no of items purchased before current campaign \n",
    "#  2) unique items purchased before current campaign total quantity of all items bought before campaign date\n",
    "#  3) total quantity of all items bought before campaign date\n",
    "#  4) features based on selling price, discounts, other discounts, no of discounts taken before a campaign, etc.\n",
    "start=time.time()\n",
    "count=0\n",
    "df_main=pd.DataFrame()\n",
    "for i in train_demo['start_date'].unique():\n",
    "    count=count+1\n",
    "    print(count)\n",
    "    train_chunk=train_demo[train_demo.start_date==i]\n",
    "    log_temp=relevant_transactions[relevant_transactions.date<i]\n",
    "    log_temp['ratio']=abs(log_temp['coupon_discount']/log_temp['selling_price'])\n",
    "    customer_uniq_item_count=log_temp.groupby(['customer_id'])['item_id'].nunique().reset_index()\n",
    "    customer_uniq_item_count.columns=['customer_id','uniq_item_count']\n",
    "    customer_item_count=log_temp.groupby(['customer_id'])['item_id'].count().reset_index()\n",
    "    customer_item_count.columns=['customer_id','item_count']\n",
    "    customer_total_item_count=log_temp.groupby('customer_id')['quantity'].sum().reset_index()\n",
    "    customer_total_item_count.columns=['customer_id','total_item_count']\n",
    "    discounts_count_coupon=log_temp[log_temp['coupon_discount']<0].groupby('customer_id')['coupon_discount'].count().reset_index()\n",
    "    discounts_count_coupon.columns=['customer_id','disc_count']\n",
    "    discounts_count_other=log_temp[log_temp['other_discount']<0].groupby('customer_id')['other_discount'].count().reset_index()\n",
    "    discounts_count_other.columns=['customer_id','disc_count_other']\n",
    "    cust_price=log_temp.groupby(['customer_id'])['selling_price'].agg(['min','max','mean','sum']).reset_index()\n",
    "    cust_price.columns=['customer_id','min_price','max_price','mean_price','sum']\n",
    "    discounts_feats_coupon=log_temp[log_temp['coupon_discount']<0].groupby('customer_id')['coupon_discount'].agg(['min','max','mean','sum']).reset_index()\n",
    "    discounts_feats_coupon.columns=['customer_id','min_disc','max_disc','mean_disc','sum_disc']\n",
    "    mean_disc_to_price=log_temp[log_temp['coupon_discount']<0].groupby('customer_id')['ratio'].agg(['min','max','mean']).reset_index()\n",
    "    mean_disc_to_price.columns=['customer_id','min_rat','max_rat','mean_rat']\n",
    "    uniq_brands=log_temp.groupby(['customer_id'])['brand'].nunique().reset_index()\n",
    "    uniq_brands.columns=['customer_id','uniq_brand_count']\n",
    "    train_chunk=train_chunk.merge(uniq_brands,on='customer_id',how='left')\n",
    "    train_chunk=train_chunk.merge(customer_uniq_item_count,on='customer_id',how='left')\n",
    "    train_chunk=train_chunk.merge(customer_item_count,on='customer_id',how='left')\n",
    "    train_chunk=train_chunk.merge(discounts_count_coupon,on='customer_id',how='left')\n",
    "    train_chunk=train_chunk.merge(discounts_count_other,on='customer_id',how='left')\n",
    "    train_chunk=train_chunk.merge(cust_price,on='customer_id',how='left')\n",
    "    train_chunk=train_chunk.merge(discounts_feats_coupon,on='customer_id',how='left')\n",
    "    train_chunk=train_chunk.merge(mean_disc_to_price,on='customer_id',how='left')\n",
    "    train_chunk=train_chunk.merge(customer_total_item_count,on='customer_id',how='left')\n",
    "    train_chunk['min_disc']=abs(train_chunk['min_disc'])\n",
    "    train_chunk['max_disc']=abs(train_chunk['max_disc'])\n",
    "    train_chunk['mean_disc']=abs(train_chunk['mean_disc'])\n",
    "    train_chunk['sum_disc']=abs(train_chunk['sum_disc'])\n",
    "    df_main=pd.concat([df_main,train_chunk])\n",
    "end=time.time()\n",
    "print(end-start)"
   ]
  },
  {
   "cell_type": "code",
   "execution_count": 19,
   "metadata": {},
   "outputs": [],
   "source": [
    "df_main=df_main.sort_values(by='start_date')"
   ]
  },
  {
   "cell_type": "code",
   "execution_count": 20,
   "metadata": {},
   "outputs": [
    {
     "name": "stderr",
     "output_type": "stream",
     "text": [
      "/home/Mahir/anaconda3/lib/python3.7/site-packages/ipykernel_launcher.py:19: FutureWarning: Sorting because non-concatenation axis is not aligned. A future version\n",
      "of pandas will change to not sort by default.\n",
      "\n",
      "To accept the future behavior, pass 'sort=False'.\n",
      "\n",
      "To retain the current behavior and silence the warning, pass 'sort=True'.\n",
      "\n"
     ]
    }
   ],
   "source": [
    "## Adding moving groupby features on coupon and customer level based on target distribution\n",
    "## Also adding no of customers that have redeemed a coupon as a feature\n",
    "## All featurs made on past data before the campaign in consideration\n",
    "df_target=pd.DataFrame()\n",
    "for i in df_main['start_date'].unique():\n",
    "    chk=df_main[df_main.start_date<i]\n",
    "    chk_2=df_main[df_main.start_date==i]\n",
    "    target_enc = chk.groupby(by = ['coupon_id'])['redemption_status'].agg(['sum','count']).reset_index()\n",
    "    target_enc.columns = ['coupon_id',\"target_sum\",\"target_count\"]\n",
    "    target_enc['encoding_coupon'] = target_enc.target_sum/target_enc.target_count\n",
    "    target_enc_1 = chk.groupby(by = ['customer_id'])['redemption_status'].agg(['sum','count']).reset_index()\n",
    "    target_enc_1.columns = ['customer_id',\"target_sum_1\",\"target_count_1\"]\n",
    "    target_enc_1['encoding_customer'] = target_enc_1.target_sum_1/target_enc_1.target_count_1\n",
    "    chk_2=chk_2.merge(target_enc,on='coupon_id',how='left')\n",
    "    chk_2=chk_2.merge(target_enc_1,on='customer_id',how='left')\n",
    "    try:\n",
    "        people_coupons=chk[chk['redemption_status']==1].groupby('coupon_id')['customer_id'].nunique().reset_index()\n",
    "        people_coupons.columns=['coupon_id','no_of_users']\n",
    "        chk_2=chk_2.merge(people_coupons,on='coupon_id',how='left')\n",
    "    except:\n",
    "        pass\n",
    "    df_target=pd.concat([df_target,chk_2])"
   ]
  },
  {
   "cell_type": "code",
   "execution_count": 21,
   "metadata": {},
   "outputs": [],
   "source": [
    "## Overall groupby on training set of target variable on coupon level\n",
    "target_enc1 = df_target.groupby(by = ['coupon_id'])['redemption_status'].agg(['sum','count']).reset_index()\n",
    "target_enc1.columns = ['coupon_id',\"target_sum1\",\"target_count1\"]\n",
    "target_enc1['encoding'] = target_enc1.target_sum1/target_enc1.target_count1\n",
    "df_target=df_target.merge(target_enc1,on='coupon_id',how='left')"
   ]
  },
  {
   "cell_type": "code",
   "execution_count": 22,
   "metadata": {},
   "outputs": [],
   "source": [
    "## We cannot use item, brand, category, etc directly as features.\n",
    "## So will be adding embeddings created from coupon item mapping for item, brand to act as proxy features for the model\n",
    "coupon_item_mapping['item_id_str']=coupon_item_mapping['item_id'].apply(str)\n",
    "prep_for_embeddings_items=coupon_item_mapping.groupby('coupon_id')['item_id_str'].unique().reset_index()\n",
    "main_item=[]\n",
    "for i in prep_for_embeddings_items['item_id_str']:\n",
    "    main_item.append(list(i))\n",
    "model_item=gensim.models.Word2Vec(main_item,size=20,window=5,min_count=1,workers=10)\n",
    "embeddings_items={}\n",
    "for i in list(model_item.wv.vocab):\n",
    "    embeddings_items[i]=model_item.wv[i]\n",
    "pickle.dump(embeddings_items,open('embedding_item','wb'),protocol=4)\n",
    "embeddings_items=pickle.load(open('embedding_item','rb'))\n",
    "coupon_item_data['brand_str']=coupon_item_data['brand'].apply(str)\n",
    "prep_for_embeddings_brands=coupon_item_data.groupby('coupon_id')['brand_str'].unique().reset_index()\n",
    "main_brand=[]\n",
    "for i in prep_for_embeddings_brands['brand_str']:\n",
    "    main_brand.append(list(i))\n",
    "model_brand=gensim.models.Word2Vec(main_brand,size=20,window=5,min_count=1,workers=10)\n",
    "embeddings_brand={}\n",
    "for i in list(model_brand.wv.vocab):\n",
    "    embeddings_brand[i]=model_brand.wv[i]\n",
    "pickle.dump(embeddings_brand,open('embedding_brand','wb'),protocol=4)\n",
    "embeddings_brand=pickle.load(open('embedding_brand','rb'))\n",
    "fin_item=[]\n",
    "for i in main_item:\n",
    "    fin_vect_item=[]\n",
    "    for j in i:\n",
    "        vect_item=embeddings_items[j]\n",
    "        fin_vect_item.append(vect_item)\n",
    "    fin_item.append(list(np.mean(fin_vect_item,axis=0)))\n",
    "embeds_item=pd.DataFrame(fin_item)\n",
    "embeds_item.columns=['item_'+str(i) for i in range(1,21)]\n",
    "fin_brand=[]\n",
    "for i in main_brand:\n",
    "    fin_vect_brand=[]\n",
    "    for j in i:\n",
    "        vect_brand=embeddings_brand[j]\n",
    "        fin_vect_brand.append(vect_brand)\n",
    "    fin_brand.append(list(np.mean(fin_vect_brand,axis=0)))\n",
    "embeds_brand=pd.DataFrame(fin_brand)\n",
    "embeds_brand.columns=['brand_'+str(i) for i in range(1,21)]\n",
    "embeds_brand['coupon_id']=prep_for_embeddings_brands['coupon_id']\n",
    "embeds_item['coupon_id']=prep_for_embeddings_items['coupon_id']\n",
    "embeds_brand.to_csv('embeds_brand.csv',index=False)\n",
    "embeds_item.to_csv('embeds_item.csv',index=False)\n",
    "embeds_brand=pd.read_csv('embeds_brand.csv')\n",
    "embeds_item=pd.read_csv('embeds_item.csv')"
   ]
  },
  {
   "cell_type": "code",
   "execution_count": 23,
   "metadata": {},
   "outputs": [],
   "source": [
    "## Ratio of moving target encoding of coupon by overall target encoding of coupon\n",
    "df_target['rat']=df_target['encoding_coupon']/df_target['encoding']"
   ]
  },
  {
   "cell_type": "code",
   "execution_count": 24,
   "metadata": {},
   "outputs": [],
   "source": [
    "## Merge training set with prepared embeddings\n",
    "df_target=df_target.merge(embeds_brand,on='coupon_id',how='left')\n",
    "df_target=df_target.merge(embeds_item,on='coupon_id',how='left')"
   ]
  },
  {
   "cell_type": "code",
   "execution_count": 25,
   "metadata": {},
   "outputs": [],
   "source": [
    "## Merge with features from coupon item mapping\n",
    "df_target=df_target.merge(unique_item_data,on='coupon_id',how='left')"
   ]
  },
  {
   "cell_type": "code",
   "execution_count": 26,
   "metadata": {},
   "outputs": [],
   "source": [
    "## Add moving features from past campaigns related to customer's past actions on coupons, actions on coupons at coupon level\n",
    "df_fin=pd.DataFrame()\n",
    "for i in df_target['start_date'].unique():\n",
    "    chunk=df_target[df_target.start_date==i]\n",
    "    chunk=chunk.reset_index()\n",
    "    cp=df_target[df_target['start_date']<i]\n",
    "    cp=cp.reset_index()\n",
    "    cp=cp[cp.start_date==cp['start_date'].max()]\n",
    "    cp=cp.groupby('customer_id')['redemption_status'].sum().reset_index()\n",
    "    cp.columns=['customer_id','past_action']\n",
    "    chunk=(chunk.merge(cp,on='customer_id',how='left'))\n",
    "    df_fin=pd.concat([df_fin,chunk])\n",
    "df_fin['past_action']=df_fin['past_action'].fillna(0)\n",
    "df_finn=pd.DataFrame()\n",
    "for i in df_fin['start_date'].unique():\n",
    "    chunk=df_fin[df_fin.start_date==i]\n",
    "    chunk=chunk.reset_index()\n",
    "    cp=df_fin[df_fin['start_date']<i]\n",
    "    cp=cp.reset_index()\n",
    "    cp=cp[cp.start_date==cp['start_date'].max()]\n",
    "    cp=cp.groupby('coupon_id')['redemption_status'].sum().reset_index()\n",
    "    cp.columns=['coupon_id','past_action_cp']\n",
    "    chunk=(chunk.merge(cp,on='coupon_id',how='left'))\n",
    "    df_finn=pd.concat([df_finn,chunk])\n",
    "df_finn['past_action_cp']=df_finn['past_action_cp'].fillna(0)"
   ]
  },
  {
   "cell_type": "code",
   "execution_count": 28,
   "metadata": {},
   "outputs": [],
   "source": [
    "## Get start and end dates of campaigns for some feaure engineering\n",
    "dates=pd.DataFrame()\n",
    "dates['start_date']=df_finn['start_date'].unique()\n",
    "dates['end_date']=df_finn['end_date'].unique()"
   ]
  },
  {
   "cell_type": "code",
   "execution_count": 29,
   "metadata": {},
   "outputs": [],
   "source": [
    "## Item level historic feature\n",
    "## Calculate match rate between items in a coupon and the all iterms bought before that coupon campaign combination\n",
    "dlist=[]\n",
    "clist=[]\n",
    "ilist=[]\n",
    "for i in range(dates.shape[0]):\n",
    "    print(i)\n",
    "#     print(dates['start_date'][i])\n",
    "    l1=df_finn[df_finn.start_date==dates['start_date'][i]]\n",
    "    l2=customer_transaction_data\n",
    "    l3=l2[(l2.date>=dates['start_date'][i]) & (l2.date<=dates['end_date'][i])]\n",
    "    l4=l2[l2.date<dates['start_date'][i]]\n",
    "    group=(l4.groupby('customer_id')['item_id'].unique().reset_index())\n",
    "    group['item_id']=[list(h) for h in group['item_id']]\n",
    "    dd={}\n",
    "    for p in range(group.shape[0]):\n",
    "        dd[group['customer_id'][p]]=group['item_id'][p]\n",
    "    uniq_customers=l3['customer_id'].unique()\n",
    "    for j in uniq_customers:\n",
    "#         print(j)\n",
    "        try:\n",
    "            l_cust=l3[l3.customer_id==j]\n",
    "            gr=dd[j]\n",
    "            ctr=0\n",
    "            for w in l_cust['item_id'].unique():\n",
    "                if w in (dd[j]):\n",
    "                    ctr=ctr+1\n",
    "                    dlist.append(dates['start_date'][i])\n",
    "#                     print(dates['start_date'][i])\n",
    "                    ilist.append(w)\n",
    "                    clist.append(j)\n",
    "#                     print(j)\n",
    "#                     print(w)\n",
    "#                     print(1)\n",
    "#             print(ctr)\n",
    "        except:\n",
    "            pass\n",
    "item_level=pd.DataFrame()\n",
    "item_level['customer_id']=clist\n",
    "item_level['item_id']=ilist\n",
    "item_level['start_date']=dlist\n",
    "item_level.to_csv('item_level.csv',index=False)\n",
    "item_level=pd.read_csv('item_level.csv')\n",
    "item_level['start_date']=pd.to_datetime(item_level['start_date'])\n",
    "it_level=item_level.groupby(['customer_id','start_date'])['item_id'].count().reset_index()\n",
    "it_level.columns=['customer_id','start_date','no_of_previous_clicks']\n",
    "df_finn=df_finn.merge(it_level,on=['customer_id','start_date'],how='left')\n",
    "list_items=item_level.groupby(['customer_id','start_date'])['item_id'].unique().reset_index()\n",
    "list_items.columns=['customer_id','start_date','all_items']\n",
    "list_items['all_items']=[list(h) for h in list_items['all_items']]\n",
    "df_finn=df_finn.merge(list_items,on=['customer_id','start_date'],how='left')\n",
    "cp_item=coupon_item_data.groupby('coupon_id')['item_id'].unique().reset_index()\n",
    "cp_item.columns=['coupon_id','all_items_cp']\n",
    "cp_item['all_items_cp']=[list(h) for h in cp_item['all_items_cp']]\n",
    "df_finn=df_finn.merge(cp_item,on=['coupon_id'],how='left')\n",
    "match=[]\n",
    "for i in range(df_finn.shape[0]):\n",
    "    try:\n",
    "        list1=df_finn['all_items'][i]\n",
    "        list2=df_finn['all_items_cp'][i]\n",
    "        val=len((list(set(list1).intersection(list2))))\n",
    "        match.append(val)\n",
    "    except:\n",
    "        match.append(0)\n",
    "        pass\n",
    "df_finn['match']=match\n",
    "df_finn['match_rate']=df_finn['match']/df_finn['no_of_previous_clicks']"
   ]
  },
  {
   "cell_type": "code",
   "execution_count": null,
   "metadata": {},
   "outputs": [],
   "source": [
    "## Final features\n",
    "cols=['campaign_type','age_range',\n",
    "       'marital_status', 'rented', 'family_size', 'no_of_children',\n",
    "       'income_bracket', 'uniq_item_count', 'item_count', 'disc_count',\n",
    "       'disc_count_other', 'min_price', 'max_price', 'mean_price', 'sum',\n",
    "       'min_disc', 'max_disc', 'mean_disc', 'sum_disc', 'min_rat', 'max_rat',\n",
    "       'mean_rat', 'total_item_count','encoding_coupon','rat','item_id_uniq',\n",
    "       'brand_uniq', 'brand_type_uniq','past_action','no_of_users','uniq_brand_count','no_of_previous_clicks','match','match_rate','brand_1', 'brand_2','brand_3', 'brand_4', 'brand_5', 'item_1', 'item_2', 'item_3', 'item_4', 'item_5']"
   ]
  },
  {
   "cell_type": "code",
   "execution_count": null,
   "metadata": {},
   "outputs": [],
   "source": [
    "## Group Kfold on campaigns for stable cross validation, even timeseries split worked well for this competition with cv and lb in good sync\n",
    "groups=df_finn[['campaign_id']].drop_duplicates()\n",
    "groups['groups']=[i for i in range(groups.shape[0])]\n",
    "df_finn=df_finn.merge(groups,on=['campaign_id'],how='left')\n",
    "gkf=GroupKFold(n_splits=5)\n",
    "f=gkf.split(df_finn,df_finn['redemption_status'],groups=df_finn[['groups']])"
   ]
  },
  {
   "cell_type": "code",
   "execution_count": 30,
   "metadata": {},
   "outputs": [
    {
     "name": "stderr",
     "output_type": "stream",
     "text": [
      "/home/Mahir/anaconda3/lib/python3.7/site-packages/lightgbm/basic.py:1205: UserWarning: Using categorical_feature in Dataset.\n",
      "  warnings.warn('Using categorical_feature in Dataset.')\n",
      "/home/Mahir/anaconda3/lib/python3.7/site-packages/lightgbm/basic.py:741: UserWarning: silent keyword has been found in `params` and will be ignored.\n",
      "Please use silent argument of the Dataset constructor to pass this parameter.\n",
      "  .format(key))\n"
     ]
    },
    {
     "name": "stdout",
     "output_type": "stream",
     "text": [
      "[10]\tcv_agg's auc: 0.89415 + 0.0241148\n",
      "[20]\tcv_agg's auc: 0.900606 + 0.0221503\n",
      "[30]\tcv_agg's auc: 0.907134 + 0.0215019\n",
      "[40]\tcv_agg's auc: 0.909191 + 0.0210637\n",
      "[50]\tcv_agg's auc: 0.92071 + 0.0186518\n",
      "[60]\tcv_agg's auc: 0.923375 + 0.0174722\n",
      "[70]\tcv_agg's auc: 0.925914 + 0.0157293\n",
      "[80]\tcv_agg's auc: 0.930748 + 0.0127914\n",
      "[90]\tcv_agg's auc: 0.933011 + 0.0117318\n",
      "[100]\tcv_agg's auc: 0.932968 + 0.0112989\n",
      "[110]\tcv_agg's auc: 0.933075 + 0.0100201\n",
      "[120]\tcv_agg's auc: 0.93443 + 0.00867283\n",
      "[130]\tcv_agg's auc: 0.935497 + 0.00828952\n",
      "[140]\tcv_agg's auc: 0.936122 + 0.00872145\n",
      "[150]\tcv_agg's auc: 0.93591 + 0.0088118\n",
      "[160]\tcv_agg's auc: 0.936328 + 0.00852721\n",
      "[170]\tcv_agg's auc: 0.937275 + 0.00826371\n",
      "[180]\tcv_agg's auc: 0.93741 + 0.00771267\n",
      "[190]\tcv_agg's auc: 0.937071 + 0.00801193\n",
      "[200]\tcv_agg's auc: 0.93779 + 0.00822151\n",
      "[210]\tcv_agg's auc: 0.937955 + 0.00842779\n",
      "[220]\tcv_agg's auc: 0.937574 + 0.00825127\n",
      "[230]\tcv_agg's auc: 0.937734 + 0.00844918\n",
      "[240]\tcv_agg's auc: 0.937648 + 0.00825732\n",
      "[250]\tcv_agg's auc: 0.937278 + 0.00875423\n",
      "[260]\tcv_agg's auc: 0.937039 + 0.00869809\n",
      "[270]\tcv_agg's auc: 0.937648 + 0.00847469\n",
      "[280]\tcv_agg's auc: 0.937374 + 0.0087366\n",
      "[290]\tcv_agg's auc: 0.937294 + 0.00903344\n",
      "[300]\tcv_agg's auc: 0.937343 + 0.0089937\n",
      "[310]\tcv_agg's auc: 0.937563 + 0.00864027\n",
      "[320]\tcv_agg's auc: 0.937733 + 0.00905346\n",
      "[330]\tcv_agg's auc: 0.937408 + 0.00907787\n",
      "[340]\tcv_agg's auc: 0.936945 + 0.00931364\n",
      "[350]\tcv_agg's auc: 0.936556 + 0.00901763\n",
      "[360]\tcv_agg's auc: 0.936542 + 0.00919234\n",
      "[370]\tcv_agg's auc: 0.936346 + 0.00936282\n",
      "[380]\tcv_agg's auc: 0.935615 + 0.00955633\n",
      "[390]\tcv_agg's auc: 0.935268 + 0.00942932\n",
      "[400]\tcv_agg's auc: 0.934842 + 0.00978959\n",
      "[410]\tcv_agg's auc: 0.934387 + 0.00975309\n",
      "[420]\tcv_agg's auc: 0.934438 + 0.00960399\n",
      "[430]\tcv_agg's auc: 0.933719 + 0.00953082\n",
      "[440]\tcv_agg's auc: 0.933665 + 0.00939883\n",
      "[450]\tcv_agg's auc: 0.933847 + 0.00942623\n",
      "[460]\tcv_agg's auc: 0.933384 + 0.00999368\n",
      "[470]\tcv_agg's auc: 0.933483 + 0.009859\n",
      "[480]\tcv_agg's auc: 0.933255 + 0.00968782\n",
      "[490]\tcv_agg's auc: 0.933634 + 0.00962599\n",
      "[500]\tcv_agg's auc: 0.932982 + 0.0101311\n",
      "[510]\tcv_agg's auc: 0.932895 + 0.0102818\n",
      "[520]\tcv_agg's auc: 0.932671 + 0.010405\n",
      "[530]\tcv_agg's auc: 0.932938 + 0.0102403\n",
      "[540]\tcv_agg's auc: 0.932927 + 0.0103886\n",
      "[550]\tcv_agg's auc: 0.932753 + 0.0104474\n",
      "[560]\tcv_agg's auc: 0.932546 + 0.0105721\n",
      "[570]\tcv_agg's auc: 0.932671 + 0.0106618\n",
      "[580]\tcv_agg's auc: 0.932897 + 0.0107479\n",
      "[590]\tcv_agg's auc: 0.932748 + 0.0107001\n",
      "[600]\tcv_agg's auc: 0.933003 + 0.0106441\n",
      "[610]\tcv_agg's auc: 0.932245 + 0.010749\n",
      "[620]\tcv_agg's auc: 0.931986 + 0.0107305\n",
      "[630]\tcv_agg's auc: 0.931582 + 0.0108031\n",
      "[640]\tcv_agg's auc: 0.931607 + 0.0106761\n",
      "[650]\tcv_agg's auc: 0.93152 + 0.0106899\n",
      "[660]\tcv_agg's auc: 0.931327 + 0.0107489\n",
      "[670]\tcv_agg's auc: 0.931152 + 0.0108325\n",
      "[680]\tcv_agg's auc: 0.931074 + 0.0107954\n",
      "[690]\tcv_agg's auc: 0.931109 + 0.0106196\n",
      "[700]\tcv_agg's auc: 0.930784 + 0.0108579\n",
      "[710]\tcv_agg's auc: 0.930486 + 0.0107855\n",
      "[720]\tcv_agg's auc: 0.930547 + 0.0106438\n",
      "[730]\tcv_agg's auc: 0.930334 + 0.010647\n",
      "[740]\tcv_agg's auc: 0.930184 + 0.0106155\n",
      "[750]\tcv_agg's auc: 0.930069 + 0.0103903\n",
      "[760]\tcv_agg's auc: 0.930186 + 0.0103598\n",
      "[770]\tcv_agg's auc: 0.930399 + 0.0104584\n",
      "[780]\tcv_agg's auc: 0.929916 + 0.0108578\n",
      "[790]\tcv_agg's auc: 0.929752 + 0.0108679\n",
      "[800]\tcv_agg's auc: 0.929643 + 0.011097\n",
      "[810]\tcv_agg's auc: 0.92934 + 0.0114273\n"
     ]
    }
   ],
   "source": [
    "## Cross Validation\n",
    "# params={'silent': 1, 'verbose_eval': True, 'objective': 'binary', 'device': 'cpu', 'boosting': 'gbdt', 'metric': 'auc', 'boost_from_average': False,'is_unbalance':False}\n",
    "params={'min_sum_hessian_in_leaf': 10, 'min_data_in_leaf': 209, 'num_leaves': 56, 'subsample': 0.9836720837731385, 'colsample_bytree': 0.5572015972699615, 'learning_rate': 0.11758858551341646, 'silent': 1, 'verbose_eval': True, 'objective': 'binary', 'device': 'cpu', 'boosting': 'gbdt', 'max_depth': 2, 'bagging_freq': 5, 'metric': 'auc', 'boost_from_average': False}\n",
    "lgtrain = lgb.Dataset(df_finn[cols], label=df_finn['redemption_status'],categorical_feature=['campaign_type','marital_status'])\n",
    "cv = lgb.cv(params,\n",
    "                lgtrain,metrics='auc',\n",
    "                num_boost_round=15000,\n",
    "                early_stopping_rounds=600,verbose_eval=10,folds=f)"
   ]
  },
  {
   "cell_type": "code",
   "execution_count": 32,
   "metadata": {},
   "outputs": [
    {
     "data": {
      "text/plain": [
       "0.008365384819883567"
      ]
     },
     "execution_count": 32,
     "metadata": {},
     "output_type": "execute_result"
    }
   ],
   "source": [
    "cv['auc-stdv'][-1]"
   ]
  },
  {
   "cell_type": "code",
   "execution_count": 33,
   "metadata": {},
   "outputs": [
    {
     "data": {
      "text/plain": [
       "0.9379825210611603"
      ]
     },
     "execution_count": 33,
     "metadata": {},
     "output_type": "execute_result"
    }
   ],
   "source": [
    "cv['auc-mean'][-1]"
   ]
  },
  {
   "cell_type": "code",
   "execution_count": 34,
   "metadata": {},
   "outputs": [
    {
     "data": {
      "text/plain": [
       "211"
      ]
     },
     "execution_count": 34,
     "metadata": {},
     "output_type": "execute_result"
    }
   ],
   "source": [
    "len(cv['auc-mean'])"
   ]
  },
  {
   "cell_type": "code",
   "execution_count": 35,
   "metadata": {},
   "outputs": [
    {
     "name": "stderr",
     "output_type": "stream",
     "text": [
      "/home/Mahir/anaconda3/lib/python3.7/site-packages/lightgbm/basic.py:1205: UserWarning: Using categorical_feature in Dataset.\n",
      "  warnings.warn('Using categorical_feature in Dataset.')\n",
      "/home/Mahir/anaconda3/lib/python3.7/site-packages/lightgbm/basic.py:741: UserWarning: silent keyword has been found in `params` and will be ignored.\n",
      "Please use silent argument of the Dataset constructor to pass this parameter.\n",
      "  .format(key))\n"
     ]
    }
   ],
   "source": [
    "## Final Model\n",
    "params={'silent': 1, 'verbose_eval': True, 'objective': 'binary', 'device': 'cpu', 'boosting': 'gbdt', 'metric': 'auc', 'boost_from_average': False,'is_unbalance':False}\n",
    "params={'min_sum_hessian_in_leaf': 10, 'min_data_in_leaf': 209, 'num_leaves': 56, 'subsample': 0.9836720837731385, 'colsample_bytree': 0.5572015972699615, 'learning_rate': 0.11758858551341646, 'silent': 1, 'verbose_eval': True, 'objective': 'binary', 'device': 'cpu', 'boosting': 'gbdt', 'max_depth': 2, 'bagging_freq': 5, 'metric': 'auc', 'boost_from_average': False}\n",
    "lgtrain = lgb.Dataset(df_finn[cols], label=df_finn['redemption_status'],categorical_feature=['campaign_type','marital_status'])\n",
    "model = lgb.train(params,\n",
    "                lgtrain,\n",
    "                num_boost_round=len(cv['auc-mean']),verbose_eval=10)"
   ]
  },
  {
   "cell_type": "code",
   "execution_count": 36,
   "metadata": {},
   "outputs": [
    {
     "data": {
      "text/plain": [
       "211"
      ]
     },
     "execution_count": 36,
     "metadata": {},
     "output_type": "execute_result"
    }
   ],
   "source": [
    "model.num_trees()"
   ]
  },
  {
   "cell_type": "code",
   "execution_count": 43,
   "metadata": {},
   "outputs": [
    {
     "data": {
      "text/plain": [
       "<matplotlib.axes._subplots.AxesSubplot at 0x7fcd8c3b43c8>"
      ]
     },
     "execution_count": 43,
     "metadata": {},
     "output_type": "execute_result"
    },
    {
     "data": {
      "image/png": "[encoded data removed]",
      "text/plain": [
       "<Figure size 432x288 with 1 Axes>"
      ]
     },
     "metadata": {
      "needs_background": "light"
     },
     "output_type": "display_data"
    }
   ],
   "source": [
    "lgb.plot_importance(model,importance_type='gain')"
   ]
  },
  {
   "cell_type": "code",
   "execution_count": 38,
   "metadata": {},
   "outputs": [],
   "source": [
    "## Make all features for test\n",
    "relevant_transactions['ratio']=abs(relevant_transactions['coupon_discount']/relevant_transactions['selling_price'])\n",
    "customer_uniq_item_count=relevant_transactions.groupby(['customer_id'])['item_id'].nunique().reset_index()\n",
    "customer_uniq_item_count.columns=['customer_id','uniq_item_count']\n",
    "customer_item_count=relevant_transactions.groupby(['customer_id'])['item_id'].count().reset_index()\n",
    "customer_item_count.columns=['customer_id','item_count']\n",
    "customer_total_item_count=relevant_transactions.groupby('customer_id')['quantity'].sum().reset_index()\n",
    "customer_total_item_count.columns=['customer_id','total_item_count']\n",
    "discounts_count_coupon=relevant_transactions[relevant_transactions['coupon_discount']<0].groupby('customer_id')['coupon_discount'].count().reset_index()\n",
    "discounts_count_coupon.columns=['customer_id','disc_count']\n",
    "discounts_count_other=relevant_transactions[relevant_transactions['other_discount']<0].groupby('customer_id')['other_discount'].count().reset_index()\n",
    "discounts_count_other.columns=['customer_id','disc_count_other']\n",
    "cust_price=relevant_transactions.groupby(['customer_id'])['selling_price'].agg(['min','max','mean','sum']).reset_index()\n",
    "cust_price.columns=['customer_id','min_price','max_price','mean_price','sum']\n",
    "discounts_feats_coupon=relevant_transactions[relevant_transactions['coupon_discount']<0].groupby('customer_id')['coupon_discount'].agg(['min','max','mean','sum']).reset_index()\n",
    "discounts_feats_coupon.columns=['customer_id','min_disc','max_disc','mean_disc','sum_disc']\n",
    "mean_disc_to_price=relevant_transactions[relevant_transactions['coupon_discount']<0].groupby('customer_id')['ratio'].agg(['min','max','mean']).reset_index()\n",
    "mean_disc_to_price.columns=['customer_id','min_rat','max_rat','mean_rat']\n",
    "test_main=test_demo.merge(customer_uniq_item_count,on='customer_id',how='left')\n",
    "test_main=test_main.merge(customer_item_count,on='customer_id',how='left')\n",
    "test_main=test_main.merge(discounts_count_coupon,on='customer_id',how='left')\n",
    "test_main=test_main.merge(discounts_count_other,on='customer_id',how='left')\n",
    "test_main=test_main.merge(cust_price,on='customer_id',how='left')\n",
    "test_main=test_main.merge(discounts_feats_coupon,on='customer_id',how='left')\n",
    "test_main=test_main.merge(mean_disc_to_price,on='customer_id',how='left')\n",
    "test_main=test_main.merge(customer_total_item_count,on='customer_id',how='left')\n",
    "test_main['min_disc']=abs(test_main['min_disc'])\n",
    "test_main['max_disc']=abs(test_main['max_disc'])\n",
    "test_main['mean_disc']=abs(test_main['mean_disc'])\n",
    "test_main['sum_disc']=abs(test_main['sum_disc'])\n",
    "target_enc_test = df_target.groupby(by = ['coupon_id'])['redemption_status'].agg(['sum','count']).reset_index()\n",
    "target_enc_test.columns = ['coupon_id',\"target_sum\",\"target_count\"]\n",
    "target_enc_test['encoding_coupon'] = target_enc_test.target_sum/target_enc_test.target_count\n",
    "test_main=test_main.merge(target_enc_test,on='coupon_id',how='left')\n",
    "test_main=test_main.merge(embeds_brand,on='coupon_id',how='left')\n",
    "test_main=test_main.merge(embeds_item,on='coupon_id',how='left')\n",
    "test_main=test_main.merge(unique_item_data,on='coupon_id',how='left')\n",
    "test_main=test_main.merge(cp,on='coupon_id',how='left')\n",
    "test_main=test_main.merge(target_enc1,on='coupon_id',how='left')\n",
    "test_main['rat']=test_main['encoding_coupon']/test_main['encoding']\n",
    "people_coupons1=df_fin[df_fin['redemption_status']==1].groupby('coupon_id')['customer_id'].nunique().reset_index()\n",
    "people_coupons1.columns=['coupon_id','no_of_users']\n",
    "test_main=test_main.merge(people_coupons1,on='coupon_id',how='left')\n",
    "cpt=df_fin.groupby('customer_id')['redemption_status'].sum().reset_index()\n",
    "cpt.columns=['customer_id','past_action']\n",
    "test_main=(test_main.merge(cpt,on='customer_id',how='left'))\n",
    "uniq_brands_t=relevant_transactions.groupby(['customer_id'])['brand'].nunique().reset_index()\n",
    "uniq_brands_t.columns=['customer_id','uniq_brand_count']\n",
    "test_main=(test_main.merge(uniq_brands_t,on='customer_id',how='left'))"
   ]
  },
  {
   "cell_type": "code",
   "execution_count": 39,
   "metadata": {},
   "outputs": [],
   "source": [
    "it_level_t=customer_transaction_data.groupby(['customer_id'])['item_id'].nunique().reset_index()\n",
    "it_level_t.columns=['customer_id','no_of_previous_clicks']\n",
    "test_main=test_main.merge(it_level_t,on=['customer_id'],how='left')\n",
    "list_items1=customer_transaction_data.groupby(['customer_id'])['item_id'].unique().reset_index()\n",
    "list_items1.columns=['customer_id','all_items']\n",
    "list_items1['all_items']=[list(h) for h in list_items1['all_items']]\n",
    "test_main=test_main.merge(list_items1,on=['customer_id'],how='left')\n",
    "cp_item1=coupon_item_data.groupby('coupon_id')['item_id'].unique().reset_index()\n",
    "cp_item1.columns=['coupon_id','all_items_cp']\n",
    "cp_item1['all_items_cp']=[list(h) for h in cp_item1['all_items_cp']]\n",
    "test_main=test_main.merge(cp_item1,on=['coupon_id'],how='left')\n",
    "match1=[]\n",
    "for i in range(test_main.shape[0]):\n",
    "    try:\n",
    "        list11=test_main['all_items'][i]\n",
    "        list21=test_main['all_items_cp'][i]\n",
    "        val1=len((list(set(list11).intersection(list21))))\n",
    "        match1.append(val1)\n",
    "    except:\n",
    "        match1.append(0)\n",
    "        pass\n",
    "test_main['match']=match1\n",
    "test_main['match_rate']=test_main['match']/test_main['no_of_previous_clicks']"
   ]
  },
  {
   "cell_type": "code",
   "execution_count": 40,
   "metadata": {},
   "outputs": [],
   "source": [
    "op=pd.DataFrame()\n",
    "op['id']=test_main['id']\n",
    "op['redemption_status']=model.predict(test_main[cols])\n",
    "op.to_csv('op.csv',index=False)"
   ]
  },
  {
   "cell_type": "code",
   "execution_count": 41,
   "metadata": {},
   "outputs": [],
   "source": [
    "## Hyperparameter tuning\n",
    "# param_dict={}\n",
    "# space = {'max_depth': hp.choice('max_depth', np.arange(-1, 20,dtype=int)),\n",
    "#          'min_data_in_leaf': hp.choice('min_data_in_leaf', np.arange(10, 400,dtype=int)),\n",
    "#          'min_sum_hessian_in_leaf': hp.choice('min_sum_hessian_in_leaf', np.arange(0, 15,dtype=int)),\n",
    "#          'num_leaves': hp.choice('num_leaves', np.arange(2, 200, dtype=int)),\n",
    "#          'bagging_freq': hp.choice('bagging_freq', np.arange(1, 20, dtype=int)),\n",
    "#          'subsample': hp.uniform('subsample', 0, 1),\n",
    "#          'colsample_bytree': hp.uniform('colsample_bytree', 0, 1),\n",
    "#         'learning_rate': hp.uniform('learning_rate', 0.08, 0.2),\n",
    "#         }\n",
    "\n",
    "\n",
    "# def objective(space):\n",
    "#     params = {\n",
    "#         'min_sum_hessian_in_leaf': space['min_sum_hessian_in_leaf'],\n",
    "#         'min_data_in_leaf':space['min_data_in_leaf'],\n",
    "#             'num_leaves':space['num_leaves'],\n",
    "#              'subsample': space['subsample'],\n",
    "#             'colsample_bytree': space['colsample_bytree'],\n",
    "#             'learning_rate':space['learning_rate'],\n",
    "#             'silent': 1,\n",
    "#             'verbose_eval': True,\n",
    "#             \"objective\":\"binary\",\n",
    "#         'device':'cpu',\n",
    "#         \"boosting\":\"gbdt\",\n",
    "#         'max_depth':space['max_depth'],\n",
    "#         'bagging_freq':space['bagging_freq'],\n",
    "#           'metric':\"auc\",\n",
    "#     'boost_from_average':False,\n",
    "#     }\n",
    "#     lgtrain = lgb.Dataset(df_finn[cols], label=df_finn['redemption_status'],categorical_feature=['campaign_type','marital_status'])\n",
    "#     cv = lgb.cv(params,\n",
    "#                 lgtrain,metrics='auc',\n",
    "#                 num_boost_round=15000,\n",
    "#                 early_stopping_rounds=600,verbose_eval=500,folds=f)\n",
    "#     au = (cv['auc-mean'][-1])\n",
    "#     params['n_estimators']=len(cv['auc-mean'])\n",
    "#     param_dict[au]=params\n",
    "#     pickle.dump(param_dict,open('params','wb'))\n",
    "#     print(params, file=open(\"output_lgb.txt\", \"a\"))\n",
    "#     print(params)\n",
    "#     print('max='+str(max(param_dict.keys())))\n",
    "#     print ('auc = ', au)\n",
    "#     print(au, file=open(\"output_lgb.txt\", \"a\"))\n",
    "#     return{'loss': -au, 'status': STATUS_OK}\n",
    "\n",
    "\n",
    "# trials = Trials()\n",
    "# best = hyperopt.fmin(fn=objective,\n",
    "#             space=space,\n",
    "#             algo=tpe.suggest,\n",
    "#             max_evals=10000,\n",
    "#             trials=trials\n",
    "#             )\n",
    "\n",
    "# print(best)\n",
    "\n",
    "# fName = open('trials.pkl', 'w')\n",
    "# pickle.dump(trials, fName)\n",
    "# fName.close()"
   ]
  }
 ],
 "metadata": {
  "kernelspec": {
   "display_name": "Python 3",
   "language": "python",
   "name": "python3"
  },
  "language_info": {
   "codemirror_mode": {
    "name": "ipython",
    "version": 3
   },
   "file_extension": ".py",
   "mimetype": "text/x-python",
   "name": "python",
   "nbconvert_exporter": "python",
   "pygments_lexer": "ipython3",
   "version": "3.7.1"
  }
 },
 "nbformat": 4,
 "nbformat_minor": 2
}
